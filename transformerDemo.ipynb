{
 "cells": [
  {
   "cell_type": "code",
   "execution_count": 1,
   "metadata": {},
   "outputs": [],
   "source": [
    "import matplotlib as mpl\n",
    "import matplotlib.pyplot as plt\n",
    "%matplotlib inline\n",
    "import sklearn\n",
    "import pandas as pd\n",
    "import tensorflow as tf\n",
    "from tensorflow import keras"
   ]
  },
  {
   "cell_type": "code",
   "execution_count": 2,
   "metadata": {},
   "outputs": [],
   "source": [
    "# 1.loads data\n",
    "# 2.preprocesses data -> dataset\n",
    "# 3.tools\n",
    "# 3.1 generates position embedding\n",
    "# 3.2 create mask. (a.padding, b.decoder)\n",
    "# 3.3 scaled_dot_product_attention\n",
    "# 4. builds model\n",
    "# 4.1 MultiheadAttention\n",
    "# 4.2 EncoderLayer\n",
    "# 4.3 DecoderLayer\n",
    "# 4.4 EncoderModel\n",
    "# 4.5 DecoderModel\n",
    "# 4.6 Transformer\n",
    "# 5. optimizer & loss\n",
    "# 6.train step -> train\n",
    "# 7 Evaluate and Visualize"
   ]
  },
  {
   "cell_type": "code",
   "execution_count": 3,
   "metadata": {},
   "outputs": [
    {
     "name": "stdout",
     "output_type": "stream",
     "text": [
      "tfds.core.DatasetInfo(\n",
      "    name='ted_hrlr_translate',\n",
      "    version=1.0.0,\n",
      "    description='Data sets derived from TED talk transcripts for comparing similar language pairs\n",
      "where one is high resource and the other is low resource.',\n",
      "    homepage='https://github.com/neulab/word-embeddings-for-nmt',\n",
      "    features=Translation({\n",
      "        'en': Text(shape=(), dtype=tf.string),\n",
      "        'pt': Text(shape=(), dtype=tf.string),\n",
      "    }),\n",
      "    total_num_examples=54781,\n",
      "    splits={\n",
      "        'test': 1803,\n",
      "        'train': 51785,\n",
      "        'validation': 1193,\n",
      "    },\n",
      "    supervised_keys=('pt', 'en'),\n",
      "    citation=\"\"\"@inproceedings{Ye2018WordEmbeddings,\n",
      "      author  = {Ye, Qi and Devendra, Sachan and Matthieu, Felix and Sarguna, Padmanabhan and Graham, Neubig},\n",
      "      title   = {When and Why are pre-trained word embeddings useful for Neural Machine Translation},\n",
      "      booktitle = {HLT-NAACL},\n",
      "      year    = {2018},\n",
      "      }\"\"\",\n",
      "    redistribution_info=,\n",
      ")\n",
      "\n"
     ]
    }
   ],
   "source": [
    "import tensorflow_datasets as tfds\n",
    "examples,info = tfds.load('ted_hrlr_translate/pt_to_en',with_info = True,as_supervised=True)\n",
    "train_examples,val_examples = examples['train'],examples['validation']\n",
    "print(info)"
   ]
  },
  {
   "cell_type": "code",
   "execution_count": 4,
   "metadata": {},
   "outputs": [
    {
     "name": "stdout",
     "output_type": "stream",
     "text": [
      "b'e quando melhoramos a procura , tiramos a \\xc3\\xbanica vantagem da impress\\xc3\\xa3o , que \\xc3\\xa9 a serendipidade .'\n",
      "b'and when you improve searchability , you actually take away the one advantage of print , which is serendipity .'\n",
      "\n",
      "b'mas e se estes fatores fossem ativos ?'\n",
      "b'but what if it were active ?'\n",
      "\n",
      "b'mas eles n\\xc3\\xa3o tinham a curiosidade de me testar .'\n",
      "b\"but they did n't test for curiosity .\"\n",
      "\n",
      "b'e esta rebeldia consciente \\xc3\\xa9 a raz\\xc3\\xa3o pela qual eu , como agn\\xc3\\xb3stica , posso ainda ter f\\xc3\\xa9 .'\n",
      "b'and this conscious defiance is why i , as an agnostic , can still have faith .'\n",
      "\n",
      "b\"`` `` '' podem usar tudo sobre a mesa no meu corpo . ''\"\n",
      "b'you can use everything on the table on me .'\n",
      "\n"
     ]
    }
   ],
   "source": [
    "for pt,en in train_examples.take(5):\n",
    "    print(pt.numpy())\n",
    "    print(en.numpy())\n",
    "    print()"
   ]
  },
  {
   "cell_type": "code",
   "execution_count": 5,
   "metadata": {},
   "outputs": [],
   "source": [
    "en_tokenizer = tfds.deprecated.text.SubwordTextEncoder.build_from_corpus(\n",
    "(en.numpy() for pt,en in train_examples),target_vocab_size = 2**13)\n",
    "pt_tokenizer = tfds.deprecated.text.SubwordTextEncoder.build_from_corpus(\n",
    "(pt.numpy() for pt,en in train_examples),target_vocab_size = 2**13)"
   ]
  },
  {
   "cell_type": "code",
   "execution_count": 6,
   "metadata": {},
   "outputs": [
    {
     "name": "stdout",
     "output_type": "stream",
     "text": [
      "Tokenized string is [7915, 1248, 7946, 7194, 13, 2799, 7877]\n",
      "The original string is Transformer is awesome.\n",
      "7915 --> T\n",
      "1248 --> ran\n",
      "7946 --> s\n",
      "7194 --> former \n",
      "13 --> is \n",
      "2799 --> awesome\n",
      "7877 --> .\n"
     ]
    }
   ],
   "source": [
    "sample_string = \"Transformer is awesome.\"\n",
    "tokenized_string = en_tokenizer.encode(sample_string)\n",
    "print('Tokenized string is {}'.format(tokenized_string))\n",
    "\n",
    "origin_string = en_tokenizer.decode(tokenized_string)\n",
    "print('The original string is {}'.format(origin_string))\n",
    "\n",
    "assert origin_string == sample_string\n",
    "\n",
    "for token in tokenized_string:\n",
    "    print('{} --> {}'.format(token,en_tokenizer.decode([token])))"
   ]
  },
  {
   "cell_type": "code",
   "execution_count": 7,
   "metadata": {},
   "outputs": [],
   "source": [
    "buffer_size = 20000\n",
    "batch_size = 64\n",
    "max_length = 40\n",
    "\n",
    "def encode_to_subword(pt_sentence,en_sentence):\n",
    "    pt_sequence = [pt_tokenizer.vocab_size]+pt_tokenizer.encode(pt_sentence.numpy())+[pt_tokenizer.vocab_size + 1]\n",
    "    en_sequence = [en_tokenizer.vocab_size]+en_tokenizer.encode(en_sentence.numpy())+[en_tokenizer.vocab_size + 1]\n",
    "    return pt_sequence,en_sequence\n",
    "\n",
    "def filter_by_max_length(pt,en):\n",
    "    return tf.logical_and(tf.size(pt)<=max_length,tf.size(en)<=max_length)\n",
    "\n",
    "def tf_encode_to_subword(pt_sentence,en_sentence):\n",
    "    return tf.py_function(encode_to_subword,[pt_sentence,en_sentence],[tf.int64,tf.int64])\n",
    "\n",
    "train_dataset = train_examples.map(tf_encode_to_subword)\n",
    "train_dataset = train_dataset.filter(filter_by_max_length)\n",
    "train_dataset = train_dataset.shuffle(buffer_size).padded_batch(batch_size,padded_shapes=([-1],[-1]))\n",
    "valid_dataset = val_examples.map(tf_encode_to_subword)\n",
    "valid_dataset = valid_dataset.filter(filter_by_max_length).padded_batch(batch_size,padded_shapes=([-1],[-1]))"
   ]
  },
  {
   "cell_type": "code",
   "execution_count": 8,
   "metadata": {},
   "outputs": [
    {
     "name": "stdout",
     "output_type": "stream",
     "text": [
      "(64, 38) (64, 40)\n",
      "(64, 39) (64, 35)\n",
      "(64, 39) (64, 39)\n",
      "(64, 39) (64, 39)\n",
      "(64, 39) (64, 36)\n"
     ]
    }
   ],
   "source": [
    "for pt_batch,en_batch in valid_dataset.take(5):\n",
    "    print(pt_batch.shape,en_batch.shape)"
   ]
  },
  {
   "cell_type": "code",
   "execution_count": 9,
   "metadata": {},
   "outputs": [
    {
     "name": "stdout",
     "output_type": "stream",
     "text": [
      "(1, 50, 512)\n"
     ]
    }
   ],
   "source": [
    "# 位置编码\n",
    "# PE(pos,2i) = sin(pos/10000^(2i/d_model))\n",
    "# PE(pos,2i+1) = cos(pos/10000^(2i/d_model))\n",
    "\n",
    "# pos 词语在句中的位置\n",
    "# i 是在embedding长度中的位置\n",
    "# d_model 词向量的长度\n",
    "\n",
    "# pos.shape:[sentence_length,1] \n",
    "# i.shape: [1,d_model]\n",
    "# result.shape: [sentence_length,d_model]\n",
    "# np.newaxis  none对象 用于创建新的维度\n",
    "import numpy as np\n",
    "def get_angles(pos,i,d_model):\n",
    "    angle_rates = 1/np.power(10000,(2*(i//2))/np.float32(d_model))\n",
    "    return pos * angle_rates\n",
    "\n",
    "def get_position_embedding(sentence_length,d_model):\n",
    "    angle_rads = get_angles(np.arange(sentence_length)[:,np.newaxis],\n",
    "                           np.arange(d_model)[np.newaxis,:],\n",
    "                           d_model)\n",
    "    # sines.shape: [sentence_length,d_model / 2]\n",
    "    # cosines.shape:[sentence_length,d_model/2]\n",
    "    sines = np.sin(angle_rads[:,0::2])\n",
    "    cosines = np.cos(angle_rads[:,1::2])\n",
    "    position_embedding = np.concatenate([sines,cosines],axis = -1)\n",
    "    # position_embedding.shape : [1,sentence_length,d_model]\n",
    "    position_embedding = position_embedding[np.newaxis,...]\n",
    "    return tf.cast(position_embedding,dtype=tf.float32)\n",
    "\n",
    "position_embedding = get_position_embedding(50,512)\n",
    "print(position_embedding.shape)"
   ]
  },
  {
   "cell_type": "code",
   "execution_count": 10,
   "metadata": {},
   "outputs": [
    {
     "data": {
      "image/png": "[encoded data removed]",
      "text/plain": [
       "<Figure size 432x288 with 2 Axes>"
      ]
     },
     "metadata": {
      "needs_background": "light"
     },
     "output_type": "display_data"
    }
   ],
   "source": [
    "def plot_position_embedding(position_embedding):\n",
    "    plt.pcolormesh(position_embedding[0],cmap = 'RdBu')\n",
    "    plt.xlabel('Depth')\n",
    "    plt.xlim((0,512))\n",
    "    plt.ylabel('Position')\n",
    "    plt.colorbar()\n",
    "    plt.show()\n",
    "\n",
    "plot_position_embedding(position_embedding)"
   ]
  },
  {
   "cell_type": "code",
   "execution_count": 11,
   "metadata": {},
   "outputs": [
    {
     "data": {
      "text/plain": [
       "<tf.Tensor: shape=(3, 1, 1, 5), dtype=float32, numpy=\n",
       "array([[[[0., 0., 1., 1., 0.]]],\n",
       "\n",
       "\n",
       "       [[[0., 0., 0., 1., 1.]]],\n",
       "\n",
       "\n",
       "       [[[1., 1., 1., 0., 0.]]]], dtype=float32)>"
      ]
     },
     "execution_count": 11,
     "metadata": {},
     "output_type": "execute_result"
    }
   ],
   "source": [
    "# 1. padding mask, 2. look ahead \n",
    "\n",
    "# batch_data.shape : [batch_size,seq_len]\n",
    "def create_padding_mask(batch_data):\n",
    "    padding_mask = tf.cast(tf.math.equal(batch_data,0),tf.float32)\n",
    "    # [batch_size,1,1,seq_len]\n",
    "#     return padding_mask[:,tf.newaxis,tf.newaxis,:]\n",
    "    padding_mask = tf.expand_dims(padding_mask,1)\n",
    "    return tf.expand_dims(padding_mask,1)\n",
    "\n",
    "def create_padding_mask2(batch_data):\n",
    "    padding_mask = tf.cast(tf.math.equal(batch_data,0),tf.float32)\n",
    "    # [batch_size,1,1,seq_len]\n",
    "    return padding_mask[:,tf.newaxis,tf.newaxis,:]\n",
    "\n",
    "\n",
    "x = tf.constant([[7,6,0,0,1],\n",
    "                [1,2,3,0,0],\n",
    "                [0,0,0,4,5]])\n",
    "create_padding_mask(x)"
   ]
  },
  {
   "cell_type": "code",
   "execution_count": 12,
   "metadata": {},
   "outputs": [
    {
     "data": {
      "text/plain": [
       "<tf.Tensor: shape=(3, 3), dtype=float32, numpy=\n",
       "array([[0., 1., 1.],\n",
       "       [0., 0., 1.],\n",
       "       [0., 0., 0.]], dtype=float32)>"
      ]
     },
     "execution_count": 12,
     "metadata": {},
     "output_type": "execute_result"
    }
   ],
   "source": [
    "# attention_weights.shape: [3,3]\n",
    "# [[1,2,3],\n",
    "#  [4,5,6],\n",
    "#  [7,8,9]]\n",
    "def create_look_ahead_mask(size):\n",
    "    mask = 1- tf.linalg.band_part(tf.ones((size,size)),-1,0)\n",
    "    return mask # (seq_len,seq_len)\n",
    "\n",
    "create_look_ahead_mask(3)"
   ]
  },
  {
   "cell_type": "code",
   "execution_count": 13,
   "metadata": {},
   "outputs": [
    {
     "data": {
      "text/plain": [
       "<tf.Tensor: shape=(3, 3), dtype=float32, numpy=\n",
       "array([[1., 0., 0.],\n",
       "       [1., 1., 0.],\n",
       "       [1., 1., 1.]], dtype=float32)>"
      ]
     },
     "execution_count": 13,
     "metadata": {},
     "output_type": "execute_result"
    }
   ],
   "source": [
    "tf.linalg.band_part(tf.ones((3,3)),-1,0)"
   ]
  },
  {
   "cell_type": "code",
   "execution_count": 14,
   "metadata": {},
   "outputs": [],
   "source": [
    "def scaled_dot_product_attention(q,k,v,mask):\n",
    "    \"\"\"\n",
    "    Args:\n",
    "    - q: shape == (...,seq_len_q,depth)\n",
    "    - k: shape == (...,seq_len_k,depth)\n",
    "    - v: shape == (...,seq_len_v,depth_v)\n",
    "    - mask: shape == (...,seq_len_q,seq_len_k)\n",
    "    Returns :\n",
    "    - output: weighted sum\n",
    "    - attention_weights:weights of attention\n",
    "    \"\"\"\n",
    "    # matmul_qk.shape:(...,seq_len_q,seq_len_k)\n",
    "    matmul_qk = tf.matmul(q,k,transpose_b=True)\n",
    "    # print(\"..\",matmul_qk.shape)\n",
    "    dk = tf.cast(tf.shape(k)[-1],tf.float32)\n",
    "    scaled_attention_logits = matmul_qk / tf.math.sqrt(dk)\n",
    "    if mask is not None:\n",
    "        # 使得在softmax后值趋近于0\n",
    "        scaled_attention_logits += (mask* -1e9)\n",
    "    #attention_weights.shape: (...,seq_len_q,seq_len_len_k)\n",
    "    attention_weights = tf.nn.softmax(scaled_attention_logits,axis = -1)\n",
    "    # output.shape:(...,seq_len_q,depth_v)\n",
    "    output = tf.matmul(attention_weights,v) \n",
    "    return output,attention_weights\n",
    "\n",
    "def print_scaled_dot_produce_attention(q,k,v):\n",
    "    temp_out,temp_att = scaled_dot_product_attention(q,k,v,None)\n",
    "    print(\"Attention weights are:\")\n",
    "    print(temp_att)\n",
    "    print(\"Output is:\")\n",
    "    print(temp_out)"
   ]
  },
  {
   "cell_type": "code",
   "execution_count": 15,
   "metadata": {},
   "outputs": [
    {
     "name": "stdout",
     "output_type": "stream",
     "text": [
      "Attention weights are:\n",
      "tf.Tensor([[0. 1. 0. 0.]], shape=(1, 4), dtype=float32)\n",
      "Output is:\n",
      "tf.Tensor([[10.  0.]], shape=(1, 2), dtype=float32)\n"
     ]
    }
   ],
   "source": [
    "temp_k = tf.constant([[10,0,0],\n",
    "                      [0,10,0],\n",
    "                      [0,0,10],\n",
    "                      [0,0,10]],dtype = tf.float32)  # (4,3)\n",
    "temp_v = tf.constant([[1,0],\n",
    "                      [10,0],\n",
    "                      [100,5],\n",
    "                      [1000,6]],dtype = tf.float32)  # (4,2)\n",
    "\n",
    "temp_q1 = tf.constant([[0,10,0]],dtype = tf.float32) # (1,3)\n",
    "np.set_printoptions(suppress=True)\n",
    "print_scaled_dot_produce_attention(temp_q1,temp_k,temp_v)"
   ]
  },
  {
   "cell_type": "code",
   "execution_count": 16,
   "metadata": {},
   "outputs": [
    {
     "name": "stdout",
     "output_type": "stream",
     "text": [
      "(1, 60, 512)\n",
      "(1, 8, 60, 60)\n"
     ]
    }
   ],
   "source": [
    "class MultiHeadAttention(keras.layers.Layer):\n",
    "    \"\"\"\n",
    "    理论上：\n",
    "    x -> Wq0 -> q0\n",
    "    x -> Wk0 -> k0\n",
    "    x -> Wv0 -> v0\n",
    "    实战中：\n",
    "    q -> wq0 -> q0\n",
    "    k -> wk0 -> k0\n",
    "    v -> wv0 -> v0\n",
    "    \n",
    "    实战中技巧：\n",
    "    q -> wq -> Q -> split -> q0,q1,q2...\n",
    "    \"\"\"\n",
    "    def __init__(self,d_model,num_heads):\n",
    "        super(MultiHeadAttention,self).__init__()\n",
    "        self.num_heads = num_heads\n",
    "        self.d_model = d_model\n",
    "        assert self.d_model % self.num_heads == 0\n",
    "        \n",
    "        self.depth = self.d_model //self.num_heads\n",
    "        \n",
    "        self.WQ = keras.layers.Dense(self.d_model)\n",
    "        self.WK = keras.layers.Dense(self.d_model)\n",
    "        self.WV = keras.layers.Dense(self.d_model)\n",
    "        self.dense = keras.layers.Dense(self.d_model)\n",
    "        \n",
    "    def split_heads(self,x,batch_size):\n",
    "        # x.shape:(batch_size,seq_len,d_model)\n",
    "        # d_model = num_heads * depth\n",
    "        # x -> (batch_ize,num_heads,seq_len,depth)\n",
    "        x = tf.reshape(x,(batch_size,-1,self.num_heads,self.depth))\n",
    "        return  tf.transpose(x,perm=[0,2,1,3] )\n",
    "    \n",
    "    def call(self,q,k,v,mask):\n",
    "        batch_size = tf.shape(q)[0]\n",
    "        \n",
    "        q = self.WQ(q) # q.shape: (batch_size,seq_len_q,d_model\n",
    "        k = self.WK(k) # k.shape: (batch_size,seq_len_k,d_model\n",
    "        v = self.WV(v) # v.shape: (batch_size,seq_len_v,d_model\n",
    "        \n",
    "        # q.shape: (batch_size,nm_heads,seq_len_q,depth)\n",
    "        q = self.split_heads(q,batch_size)\n",
    "        # k.shape: (batch_size,nm_heads,seq_len_k,depth)\n",
    "        k = self.split_heads(k,batch_size)\n",
    "        # v.shape: (batch_size,nm_heads,seq_len_v,depth)\n",
    "        v = self.split_heads(v,batch_size)\n",
    "        \n",
    "        # scaled_attention_outputs.shape:(batch_size,num_heads.seq_len_q,depth)\n",
    "        # attention_weights.shape:(batch_size,num_heads,seq_len_q,seq_len_k)\n",
    "        scaled_attention_outputs,attention_weights = scaled_dot_product_attention(q,k,v,mask)\n",
    "        \n",
    "        # scaled_attention_outputs.shape:(batch_size,seq_len_q,num_heads,depth)\n",
    "        scaled_attention_outputs = tf.transpose(scaled_attention_outputs,perm=[0,2,1,3])\n",
    "        concat_attention = tf.reshape(scaled_attention_outputs,(batch_size,-1,self.d_model))\n",
    "        \n",
    "        # output.shape : (batch_size,seq_len_q,d_model)\n",
    "        output = self.dense(concat_attention)\n",
    "        return output,attention_weights\n",
    "\n",
    "temp_mha = MultiHeadAttention(d_model=512,num_heads = 8)\n",
    "y = tf.random.uniform((1,60,256)) # (batch_size,seq_len_q,dim)\n",
    "output,attn = temp_mha(y,y,y,mask = None)\n",
    "print(output.shape)\n",
    "print(attn.shape)"
   ]
  },
  {
   "cell_type": "code",
   "execution_count": 17,
   "metadata": {},
   "outputs": [
    {
     "data": {
      "text/plain": [
       "TensorShape([64, 50, 512])"
      ]
     },
     "execution_count": 17,
     "metadata": {},
     "output_type": "execute_result"
    }
   ],
   "source": [
    "def feed_forward_network(d_model,dff):\n",
    "    # dff: dim of feed forward network,\n",
    "    return keras.Sequential([\n",
    "        keras.layers.Dense(dff,activation='relu'),\n",
    "        keras.layers.Dense(d_model)\n",
    "    ])\n",
    "sample_ffn = feed_forward_network(512,2048)\n",
    "sample_ffn(tf.random.uniform((64,50,512))).shape"
   ]
  },
  {
   "cell_type": "code",
   "execution_count": 18,
   "metadata": {},
   "outputs": [
    {
     "name": "stdout",
     "output_type": "stream",
     "text": [
      "(64, 50, 512)\n"
     ]
    }
   ],
   "source": [
    "class EncoderLayer(keras.layers.Layer):\n",
    "    \"\"\"\n",
    "    x -> self attention ->add & normalize & dropout\n",
    "      -> feed_forward -> add & normalize & dropout\n",
    "    \"\"\"\n",
    "    def __init__(self,d_model,num_heads,dff,rate=0.1):\n",
    "        super(EncoderLayer,self).__init__()\n",
    "        self.mha = MultiHeadAttention(d_model, num_heads)\n",
    "        self.ffn = feed_forward_network(d_model,dff)\n",
    "        self.layer_normal1 = keras.layers.LayerNormalization(epsilon = 1e-6)\n",
    "        self.layer_normal2 = keras.layers.LayerNormalization(epsilon = 1e-6)\n",
    "        self.dropout1 = keras.layers.Dropout(rate)\n",
    "        self.dropout2 = keras.layers.Dropout(rate)\n",
    "    def call(self,x,training,encoder_padding_mask):\n",
    "        # x.shape :          (batch_size,seq_len,dim=d_model)\n",
    "        # attn_output.shape: (batch_size,seq_len,d_model)\n",
    "        # out1.shape:        (batch_size,seq_len,d_model)\n",
    "        attn_output,_ = self.mha(x,x,x,encoder_padding_mask)\n",
    "        attn_output = self.dropout1(attn_output,training=training)\n",
    "        out1 = self.layer_normal1(x+attn_output)\n",
    "        # ffn_output.shape: (batch_size,seq_len,d_model)\n",
    "        # out2.shape      : (batch_size,seq_len,d_model)\n",
    "        ffn_output = self.ffn(out1)\n",
    "        ffn_output = self.dropout2(ffn_output,training=training)\n",
    "        out2 = self.layer_normal2(out1+ffn_output)\n",
    "        return out2\n",
    "\n",
    "sample_encoder_layer = EncoderLayer(512,8,2048)\n",
    "sample_input =tf.random.uniform((64,50,512))\n",
    "sample_output = sample_encoder_layer(sample_input,False,None)\n",
    "print(sample_output.shape)"
   ]
  },
  {
   "cell_type": "code",
   "execution_count": 19,
   "metadata": {},
   "outputs": [
    {
     "name": "stdout",
     "output_type": "stream",
     "text": [
      "(64, 60, 512)\n",
      "(64, 8, 60, 60)\n",
      "(64, 8, 60, 50)\n"
     ]
    }
   ],
   "source": [
    "class DecoderLayer(keras.layers.Layer):\n",
    "    def __init__(self,d_model,num_heads,dff,rate=0.1):\n",
    "        \"\"\"\n",
    "        x -> self attention -> add & normalize & dropout ->out1\n",
    "        out1 ,encoding_outputs -> attention -> add & normalize & dropout -> out2\n",
    "        out2 -> ffn -> add & normalize & dropout -> out3\n",
    "        \"\"\"\n",
    "        super(DecoderLayer,self).__init__()\n",
    "        self.mha1 = MultiHeadAttention(d_model,num_heads)\n",
    "        self.mha2 = MultiHeadAttention(d_model,num_heads)\n",
    "        \n",
    "        self.ffn = feed_forward_network(d_model,dff)\n",
    "        \n",
    "        self.layer_norm1 = keras.layers.LayerNormalization(epsilon = 1e-6)\n",
    "        self.layer_norm2 = keras.layers.LayerNormalization(epsilon = 1e-6)\n",
    "        self.layer_norm3 = keras.layers.LayerNormalization(epsilon = 1e-6)\n",
    "        \n",
    "        self.dropout1 = keras.layers.Dropout(rate)\n",
    "        self.dropout2 = keras.layers.Dropout(rate)\n",
    "        self.dropout3 = keras.layers.Dropout(rate)\n",
    "    \n",
    "    def call(self,x,encoding_outputs,training,decoder_mask,encoder_decoder_padding_mask):\n",
    "        # decoder_mask: look_ahead_mask 和decoder_padding_mask 合并而来\n",
    "        # x.shape: (batch_size,target_seq_len,d_model)\n",
    "        # encoding_outputs.shape: (batch_size,input_seq_len,d_model)\n",
    "        # attn1,out1.shape : (batch_size,target_seq_len,d_model)\n",
    "        attn1,attn_weights1 = self.mha1(x,x,x,decoder_mask)\n",
    "        attn1 = self.dropout1(attn1,training = training)\n",
    "        out1 = self.layer_norm1(attn1 + x)\n",
    "       \n",
    "        # attn2,out2.shape:(batch_size,target_seq_len,d_model)\n",
    "        attn2,attn_weights2 = self.mha2(out1,encoding_outputs,encoding_outputs,encoder_decoder_padding_mask)\n",
    "        attn2 = self.dropout2(attn2,training = training)\n",
    "        out2 = self.layer_norm2(attn2 + out1)\n",
    "        \n",
    "        # ffn_output, out3.shape:(batch_size,target_seq_len,d_model)\n",
    "        ffn_output = self.ffn(out2)\n",
    "        ffn_output = self.dropout3(ffn_output,training=training)\n",
    "        out3 = self.layer_norm3(ffn_output + out2)\n",
    "        \n",
    "        return out3,attn_weights1,attn_weights2\n",
    "\n",
    "sample_decoder_layer = DecoderLayer(512,8,2048)\n",
    "sample_decoder_input = tf.random.uniform((64,60,512))\n",
    "sample_decoder_output,sample_decoder_attn_weights1,sample_decoder_attn_weights2 = sample_decoder_layer(sample_decoder_input,sample_output,False,None,None)\n",
    "print(sample_decoder_output.shape)\n",
    "print(sample_decoder_attn_weights1.shape)\n",
    "print(sample_decoder_attn_weights2.shape)"
   ]
  },
  {
   "cell_type": "code",
   "execution_count": 20,
   "metadata": {},
   "outputs": [
    {
     "name": "stdout",
     "output_type": "stream",
     "text": [
      "(64, 37, 512)\n"
     ]
    }
   ],
   "source": [
    "class EncoderModel(keras.layers.Layer):\n",
    "    def __init__(self,num_layers,input_vocab_size,max_length,d_model,num_heads,dff,rate = 0.1):\n",
    "        super(EncoderModel,self).__init__()\n",
    "        self.d_model = d_model\n",
    "        self.num_layers = num_layers\n",
    "        self.max_length = max_length\n",
    "        \n",
    "        self.embedding = keras.layers.Embedding(input_vocab_size,self.d_model)\n",
    "        # position_embedding.shape:(1,max_length.d_model)\n",
    "        self.position_embedding = get_position_embedding(max_length,self.d_model)\n",
    "        self.dropout = keras.layers.Dropout(rate)\n",
    "        self.encoder_layers = [EncoderLayer(d_model,num_heads,dff,rate) for _ in range(self.num_layers)]\n",
    "    def call(self,x,training,encoder_padding_mask):\n",
    "        # x.shape:(batch_size,input_seq_len)\n",
    "        input_seq_len = tf.shape(x)[1]\n",
    "        tf.debugging.assert_less_equal(input_seq_len,self.max_length,\"input_seq_len should be less or equal to self.max_length\")\n",
    "        \n",
    "        # x.shape:(batch_size,input_seq_len,d_model)\n",
    "        x = self.embedding(x)\n",
    "        x *= tf.math.sqrt(tf.cast(self.d_model,tf.float32))\n",
    "        x += self.position_embedding[:,:input_seq_len,:]\n",
    "        x = self.dropout(x,training = training)\n",
    "        \n",
    "        for i in range (self.num_layers):\n",
    "            x = self.encoder_layers[i](x,training,encoder_padding_mask)\n",
    "            \n",
    "        #x.shape :(batch_size,input_seq_len,d_model)\n",
    "        return x\n",
    "\n",
    "sample_encoder_model = EncoderModel(2,8500,max_length,512,8,2048)\n",
    "sample_encoder_model_input = tf.random.uniform((64,37))\n",
    "sample_encoder_model_output = sample_encoder_model(\n",
    "sample_encoder_model_input,False,encoder_padding_mask =None)\n",
    "print(sample_encoder_model_output.shape)"
   ]
  },
  {
   "cell_type": "code",
   "execution_count": 21,
   "metadata": {},
   "outputs": [
    {
     "name": "stdout",
     "output_type": "stream",
     "text": [
      "(64, 35, 512)\n",
      "(64, 8, 35, 35)\n",
      "(64, 8, 35, 37)\n",
      "(64, 8, 35, 35)\n",
      "(64, 8, 35, 37)\n"
     ]
    }
   ],
   "source": [
    "class DecoderModel(keras.layers.Layer):\n",
    "    def __init__(self,num_layers,target_vocab_size,max_length,d_model,num_heads,dff,rate=0.1):\n",
    "        super(DecoderModel,self).__init__()\n",
    "        self.num_layers = num_layers\n",
    "        self.max_length = max_length\n",
    "        self.d_model = d_model\n",
    "        \n",
    "        self.embedding = keras.layers.Embedding(target_vocab_size,d_model)\n",
    "        self.position_embedding = get_position_embedding(max_length,d_model)\n",
    "        self.dropout = keras.layers.Dropout(rate)\n",
    "        self.decoder_layers = [DecoderLayer(d_model,num_heads,dff,rate) for _ in range(self.num_layers)]\n",
    "    \n",
    "    def call(self,x,encoding_outputs,training,decoder_mask,encoder_decoder_padding_mask):\n",
    "        # x .shape : (batch_size,outseq_seq_len)\n",
    "        output_seq_len = tf.shape(x)[1]\n",
    "        tf.debugging.assert_less_equal(output_seq_len,self.max_length,\"output_seq_len should be less or equal to self.max_length\")\n",
    "        \n",
    "        attention_weights = {}\n",
    "        \n",
    "        # x.shape:(batch_size,output_seq_len,d_model)\n",
    "        x = self.embedding(x)\n",
    "        x *= tf.math.sqrt(tf.cast(self.d_model,tf.float32))\n",
    "        x += self.position_embedding[:,:output_seq_len,:]\n",
    "        x = self.dropout(x,training = training)\n",
    "        \n",
    "        for i in range(self.num_layers):\n",
    "            x,attn1,attn2 = self.decoder_layers[i](x,encoding_outputs,training,decoder_mask,encoder_decoder_padding_mask)\n",
    "            attention_weights['decoder_layer{}_att1'.format(i+1)] = attn1\n",
    "            attention_weights['decoder_layer{}_att2'.format(i+1)] = attn2\n",
    "\n",
    "        # x.shape:(batch_size,output_seq_len,d_model)\n",
    "        return x,attention_weights\n",
    "sample_decoder_model = DecoderModel(2,8000,max_length,512,8,2048)\n",
    "sample_decoder_model_input = tf.random.uniform((64,35))\n",
    "sample_decoder_model_output,sample_decoder_model_att = sample_decoder_model(sample_decoder_model_input,sample_encoder_model_output,training = False,decoder_mask=None,encoder_decoder_padding_mask=None)\n",
    "print(sample_decoder_model_output.shape)\n",
    "for key in sample_decoder_model_att:\n",
    "    print(sample_decoder_model_att[key].shape)"
   ]
  },
  {
   "cell_type": "code",
   "execution_count": 22,
   "metadata": {},
   "outputs": [
    {
     "name": "stdout",
     "output_type": "stream",
     "text": [
      "(64, 31, 8000)\n",
      "decoder_layer1_att1 (64, 8, 31, 31)\n",
      "decoder_layer1_att2 (64, 8, 31, 26)\n",
      "decoder_layer2_att1 (64, 8, 31, 31)\n",
      "decoder_layer2_att2 (64, 8, 31, 26)\n"
     ]
    }
   ],
   "source": [
    "class Transformer(keras.Model):\n",
    "    def __init__(self,num_layers,input_vocab_size,target_vocab_size,max_length,d_model,num_heads,dff,rate=0.1):\n",
    "        super(Transformer,self).__init__()\n",
    "        self.encoder_model = EncoderModel(num_layers,input_vocab_size,max_length,d_model,num_heads,dff,rate)\n",
    "        self.decoder_model = DecoderModel(num_layers,target_vocab_size,max_length,d_model,num_heads,dff,rate)\n",
    "        self.final_layer = keras.layers.Dense(target_vocab_size)\n",
    "\n",
    "    def call(self,inp,tar,training,encoder_padding_mask,decoder_mask,encoder_decoder_padding_mask):\n",
    "        # encoding_outputs.shape:(batch_size,input_seq_len,d_model)\n",
    "        encoding_outputs = self.encoder_model(inp,training,encoder_padding_mask)\n",
    "        \n",
    "        # decoding_outputs.shape:(b)\n",
    "        decoding_outputs,attention_weights = self.decoder_model(tar,encoding_outputs,training,decoder_mask,encoder_decoder_padding_mask)\n",
    "        \n",
    "        # predictions.shape: (batch_size,output_seq_len,target_vocab_size)\n",
    "        predictions = self.final_layer(decoding_outputs)\n",
    "        \n",
    "        return predictions,attention_weights\n",
    "\n",
    "sample_transformer = Transformer(2,8500,8000,max_length,512,8,2048,rate = 0.1)\n",
    "temp_input = tf.random.uniform((64,26))\n",
    "temp_target = tf.random.uniform((64,31))\n",
    "predictions,attention_weights = sample_transformer(temp_input,temp_target,training = False,\n",
    "                  encoder_padding_mask = None,decoder_mask = None,encoder_decoder_padding_mask=None)\n",
    "print(predictions.shape)\n",
    "for key in attention_weights:\n",
    "    print(key,attention_weights[key].shape)\n"
   ]
  },
  {
   "cell_type": "code",
   "execution_count": 23,
   "metadata": {},
   "outputs": [],
   "source": [
    "# 1.initializes model.\n",
    "# 2.define loss,optimizer,lerning_rate schedule\n",
    "# 3.train_step\n",
    "# 4.train process"
   ]
  },
  {
   "cell_type": "code",
   "execution_count": 24,
   "metadata": {},
   "outputs": [],
   "source": [
    "num_layers = 4\n",
    "d_model = 128\n",
    "dff =512\n",
    "num_heads = 8\n",
    "\n",
    "input_vocab_size = pt_tokenizer.vocab_size + 2\n",
    "target_vocab_size = en_tokenizer.vocab_size + 2\n",
    "\n",
    "dropout_rate = 0.1\n",
    "\n",
    "transformer = Transformer(num_layers,input_vocab_size,target_vocab_size,max_length,d_model,num_heads,dff,dropout_rate)"
   ]
  },
  {
   "cell_type": "code",
   "execution_count": 25,
   "metadata": {},
   "outputs": [],
   "source": [
    "# lrate = (d_model**-0.5) * min(step_num**(-0.5),step_num*warm_up_steps**(-1.5))\n",
    "class CustomizedSchedule(keras.optimizers.schedules.LearningRateSchedule):\n",
    "    def __init__(self,d_model,warmup_steps=4000):\n",
    "        super(CustomizedSchedule,self).__init__()\n",
    "        self.d_model = tf.cast(d_model,tf.float32)\n",
    "        self.warmup_steps = warmup_steps\n",
    "        \n",
    "    def __call__(self,step):\n",
    "        arg1 = tf.math.rsqrt(step)\n",
    "        arg2 = step * (self.warmup_steps ** (-1.5))\n",
    "        arg3 = tf.math.rsqrt(self.d_model)\n",
    "        return arg3 * tf.math.minimum(arg1,arg2)\n",
    "learning_rate = CustomizedSchedule(d_model)\n",
    "optimizer = keras.optimizers.Adam(learning_rate,beta_1 = 0.9,beta_2 = 0.98,epsilon = 1e-9)"
   ]
  },
  {
   "cell_type": "code",
   "execution_count": 26,
   "metadata": {},
   "outputs": [
    {
     "data": {
      "text/plain": [
       "Text(0.5, 0, 'Train step')"
      ]
     },
     "execution_count": 26,
     "metadata": {},
     "output_type": "execute_result"
    },
    {
     "data": {
      "image/png": "[encoded data removed]",
      "text/plain": [
       "<Figure size 432x288 with 1 Axes>"
      ]
     },
     "metadata": {
      "needs_background": "light"
     },
     "output_type": "display_data"
    }
   ],
   "source": [
    "temp_learning_rate_schedule = CustomizedSchedule(d_model)\n",
    "plt.plot(temp_learning_rate_schedule(tf.range(40000,dtype=tf.float32)))\n",
    "plt.ylabel(\"Learning rate\")\n",
    "plt.xlabel(\"Train step\")"
   ]
  },
  {
   "cell_type": "code",
   "execution_count": 27,
   "metadata": {},
   "outputs": [],
   "source": [
    "loss_object = keras.losses.SparseCategoricalCrossentropy(from_logits = True,reduction = 'none')\n",
    "\n",
    "def loss_function(real,pred):\n",
    "    mask = tf.math.logical_not(tf.math.equal(real,0))\n",
    "    loss_ = loss_object(real,pred)\n",
    "    mask = tf.cast(mask,dtype = loss_.dtype)\n",
    "    loss_ *= mask\n",
    "    return tf.reduce_mean(loss_)"
   ]
  },
  {
   "cell_type": "code",
   "execution_count": 28,
   "metadata": {},
   "outputs": [],
   "source": [
    "def create_mask(inp,tar):\n",
    "    \"\"\"\n",
    "    Encoder:\n",
    "     - encoder_padding_mask (self attention of EncoderLayer)\n",
    "    \n",
    "    Decoder:\n",
    "     - look_ahead_mask (self attention of DecoderLayer)\n",
    "     - encoder_decoder_padding_mask (encoder-decoder attention of DecoderLayer)\n",
    "     - decoder_padding_mask (self attention of DecoderLayer)\n",
    "    \"\"\"\n",
    "    encoder_padding_mask = create_padding_mask(inp)\n",
    "    encoder_decoder_padding_mask = create_padding_mask(inp)\n",
    "    \n",
    "    look_ahead_mask = create_look_ahead_mask(tf.shape(tar)[1])\n",
    "    decoder_padding_mask = create_padding_mask(tar)\n",
    "    decoder_mask = tf.maximum(decoder_padding_mask,look_ahead_mask)\n",
    "    \n",
    "#     print(encoder_padding_mask.shape)\n",
    "#     print(encoder_decoder_padding_mask.shape)\n",
    "#     print(look_ahead_mask.shape)\n",
    "#     print(decoder_padding_mask.shape)\n",
    "#     print(decoder_mask.shape)\n",
    "    return encoder_padding_mask,decoder_mask,encoder_decoder_padding_mask"
   ]
  },
  {
   "cell_type": "code",
   "execution_count": 29,
   "metadata": {},
   "outputs": [],
   "source": [
    "temp_inp,temp_tar = iter(train_dataset.take(1)).next()"
   ]
  },
  {
   "cell_type": "code",
   "execution_count": 30,
   "metadata": {},
   "outputs": [
    {
     "name": "stdout",
     "output_type": "stream",
     "text": [
      "(64, 40)\n",
      "(64, 38)\n"
     ]
    },
    {
     "data": {
      "text/plain": [
       "(<tf.Tensor: shape=(64, 1, 1, 40), dtype=float32, numpy=\n",
       " array([[[[0., 0., 0., ..., 1., 1., 1.]]],\n",
       " \n",
       " \n",
       "        [[[0., 0., 0., ..., 0., 0., 0.]]],\n",
       " \n",
       " \n",
       "        [[[0., 0., 0., ..., 1., 1., 1.]]],\n",
       " \n",
       " \n",
       "        ...,\n",
       " \n",
       " \n",
       "        [[[0., 0., 0., ..., 1., 1., 1.]]],\n",
       " \n",
       " \n",
       "        [[[0., 0., 0., ..., 1., 1., 1.]]],\n",
       " \n",
       " \n",
       "        [[[0., 0., 0., ..., 1., 1., 1.]]]], dtype=float32)>,\n",
       " <tf.Tensor: shape=(64, 1, 38, 38), dtype=float32, numpy=\n",
       " array([[[[0., 1., 1., ..., 1., 1., 1.],\n",
       "          [0., 0., 1., ..., 1., 1., 1.],\n",
       "          [0., 0., 0., ..., 1., 1., 1.],\n",
       "          ...,\n",
       "          [0., 0., 0., ..., 1., 1., 1.],\n",
       "          [0., 0., 0., ..., 1., 1., 1.],\n",
       "          [0., 0., 0., ..., 1., 1., 1.]]],\n",
       " \n",
       " \n",
       "        [[[0., 1., 1., ..., 1., 1., 1.],\n",
       "          [0., 0., 1., ..., 1., 1., 1.],\n",
       "          [0., 0., 0., ..., 1., 1., 1.],\n",
       "          ...,\n",
       "          [0., 0., 0., ..., 0., 1., 1.],\n",
       "          [0., 0., 0., ..., 0., 0., 1.],\n",
       "          [0., 0., 0., ..., 0., 0., 0.]]],\n",
       " \n",
       " \n",
       "        [[[0., 1., 1., ..., 1., 1., 1.],\n",
       "          [0., 0., 1., ..., 1., 1., 1.],\n",
       "          [0., 0., 0., ..., 1., 1., 1.],\n",
       "          ...,\n",
       "          [0., 0., 0., ..., 1., 1., 1.],\n",
       "          [0., 0., 0., ..., 1., 1., 1.],\n",
       "          [0., 0., 0., ..., 1., 1., 1.]]],\n",
       " \n",
       " \n",
       "        ...,\n",
       " \n",
       " \n",
       "        [[[0., 1., 1., ..., 1., 1., 1.],\n",
       "          [0., 0., 1., ..., 1., 1., 1.],\n",
       "          [0., 0., 0., ..., 1., 1., 1.],\n",
       "          ...,\n",
       "          [0., 0., 0., ..., 1., 1., 1.],\n",
       "          [0., 0., 0., ..., 1., 1., 1.],\n",
       "          [0., 0., 0., ..., 1., 1., 1.]]],\n",
       " \n",
       " \n",
       "        [[[0., 1., 1., ..., 1., 1., 1.],\n",
       "          [0., 0., 1., ..., 1., 1., 1.],\n",
       "          [0., 0., 0., ..., 1., 1., 1.],\n",
       "          ...,\n",
       "          [0., 0., 0., ..., 1., 1., 1.],\n",
       "          [0., 0., 0., ..., 1., 1., 1.],\n",
       "          [0., 0., 0., ..., 1., 1., 1.]]],\n",
       " \n",
       " \n",
       "        [[[0., 1., 1., ..., 1., 1., 1.],\n",
       "          [0., 0., 1., ..., 1., 1., 1.],\n",
       "          [0., 0., 0., ..., 1., 1., 1.],\n",
       "          ...,\n",
       "          [0., 0., 0., ..., 1., 1., 1.],\n",
       "          [0., 0., 0., ..., 1., 1., 1.],\n",
       "          [0., 0., 0., ..., 1., 1., 1.]]]], dtype=float32)>,\n",
       " <tf.Tensor: shape=(64, 1, 1, 40), dtype=float32, numpy=\n",
       " array([[[[0., 0., 0., ..., 1., 1., 1.]]],\n",
       " \n",
       " \n",
       "        [[[0., 0., 0., ..., 0., 0., 0.]]],\n",
       " \n",
       " \n",
       "        [[[0., 0., 0., ..., 1., 1., 1.]]],\n",
       " \n",
       " \n",
       "        ...,\n",
       " \n",
       " \n",
       "        [[[0., 0., 0., ..., 1., 1., 1.]]],\n",
       " \n",
       " \n",
       "        [[[0., 0., 0., ..., 1., 1., 1.]]],\n",
       " \n",
       " \n",
       "        [[[0., 0., 0., ..., 1., 1., 1.]]]], dtype=float32)>)"
      ]
     },
     "execution_count": 30,
     "metadata": {},
     "output_type": "execute_result"
    }
   ],
   "source": [
    "print(temp_inp.shape)\n",
    "print(temp_tar.shape)\n",
    "create_mask(temp_inp,temp_tar)"
   ]
  },
  {
   "cell_type": "code",
   "execution_count": 31,
   "metadata": {},
   "outputs": [
    {
     "name": "stdout",
     "output_type": "stream",
     "text": [
      "Epoch 1 Batch 0 Loss 4.2933 Accuracy 0.0000\n",
      "WARNING:tensorflow:5 out of the last 7 calls to <function train_step at 0x00000204CB605B70> triggered tf.function retracing. Tracing is expensive and the excessive number of tracings could be due to (1) creating @tf.function repeatedly in a loop, (2) passing tensors with different shapes, (3) passing Python objects instead of tensors. For (1), please define your @tf.function outside of the loop. For (2), @tf.function has experimental_relax_shapes=True option that relaxes argument shapes that can avoid unnecessary retracing. For (3), please refer to https://www.tensorflow.org/tutorials/customization/performance#python_or_tensor_args and https://www.tensorflow.org/api_docs/python/tf/function for  more details.\n"
     ]
    },
    {
     "name": "stderr",
     "output_type": "stream",
     "text": [
      "WARNING:tensorflow:5 out of the last 7 calls to <function train_step at 0x00000204CB605B70> triggered tf.function retracing. Tracing is expensive and the excessive number of tracings could be due to (1) creating @tf.function repeatedly in a loop, (2) passing tensors with different shapes, (3) passing Python objects instead of tensors. For (1), please define your @tf.function outside of the loop. For (2), @tf.function has experimental_relax_shapes=True option that relaxes argument shapes that can avoid unnecessary retracing. For (3), please refer to https://www.tensorflow.org/tutorials/customization/performance#python_or_tensor_args and https://www.tensorflow.org/api_docs/python/tf/function for  more details.\n"
     ]
    },
    {
     "name": "stdout",
     "output_type": "stream",
     "text": [
      "WARNING:tensorflow:6 out of the last 8 calls to <function train_step at 0x00000204CB605B70> triggered tf.function retracing. Tracing is expensive and the excessive number of tracings could be due to (1) creating @tf.function repeatedly in a loop, (2) passing tensors with different shapes, (3) passing Python objects instead of tensors. For (1), please define your @tf.function outside of the loop. For (2), @tf.function has experimental_relax_shapes=True option that relaxes argument shapes that can avoid unnecessary retracing. For (3), please refer to https://www.tensorflow.org/tutorials/customization/performance#python_or_tensor_args and https://www.tensorflow.org/api_docs/python/tf/function for  more details.\n"
     ]
    },
    {
     "name": "stderr",
     "output_type": "stream",
     "text": [
      "WARNING:tensorflow:6 out of the last 8 calls to <function train_step at 0x00000204CB605B70> triggered tf.function retracing. Tracing is expensive and the excessive number of tracings could be due to (1) creating @tf.function repeatedly in a loop, (2) passing tensors with different shapes, (3) passing Python objects instead of tensors. For (1), please define your @tf.function outside of the loop. For (2), @tf.function has experimental_relax_shapes=True option that relaxes argument shapes that can avoid unnecessary retracing. For (3), please refer to https://www.tensorflow.org/tutorials/customization/performance#python_or_tensor_args and https://www.tensorflow.org/api_docs/python/tf/function for  more details.\n"
     ]
    },
    {
     "name": "stdout",
     "output_type": "stream",
     "text": [
      "WARNING:tensorflow:7 out of the last 9 calls to <function train_step at 0x00000204CB605B70> triggered tf.function retracing. Tracing is expensive and the excessive number of tracings could be due to (1) creating @tf.function repeatedly in a loop, (2) passing tensors with different shapes, (3) passing Python objects instead of tensors. For (1), please define your @tf.function outside of the loop. For (2), @tf.function has experimental_relax_shapes=True option that relaxes argument shapes that can avoid unnecessary retracing. For (3), please refer to https://www.tensorflow.org/tutorials/customization/performance#python_or_tensor_args and https://www.tensorflow.org/api_docs/python/tf/function for  more details.\n"
     ]
    },
    {
     "name": "stderr",
     "output_type": "stream",
     "text": [
      "WARNING:tensorflow:7 out of the last 9 calls to <function train_step at 0x00000204CB605B70> triggered tf.function retracing. Tracing is expensive and the excessive number of tracings could be due to (1) creating @tf.function repeatedly in a loop, (2) passing tensors with different shapes, (3) passing Python objects instead of tensors. For (1), please define your @tf.function outside of the loop. For (2), @tf.function has experimental_relax_shapes=True option that relaxes argument shapes that can avoid unnecessary retracing. For (3), please refer to https://www.tensorflow.org/tutorials/customization/performance#python_or_tensor_args and https://www.tensorflow.org/api_docs/python/tf/function for  more details.\n"
     ]
    },
    {
     "name": "stdout",
     "output_type": "stream",
     "text": [
      "WARNING:tensorflow:8 out of the last 10 calls to <function train_step at 0x00000204CB605B70> triggered tf.function retracing. Tracing is expensive and the excessive number of tracings could be due to (1) creating @tf.function repeatedly in a loop, (2) passing tensors with different shapes, (3) passing Python objects instead of tensors. For (1), please define your @tf.function outside of the loop. For (2), @tf.function has experimental_relax_shapes=True option that relaxes argument shapes that can avoid unnecessary retracing. For (3), please refer to https://www.tensorflow.org/tutorials/customization/performance#python_or_tensor_args and https://www.tensorflow.org/api_docs/python/tf/function for  more details.\n"
     ]
    },
    {
     "name": "stderr",
     "output_type": "stream",
     "text": [
      "WARNING:tensorflow:8 out of the last 10 calls to <function train_step at 0x00000204CB605B70> triggered tf.function retracing. Tracing is expensive and the excessive number of tracings could be due to (1) creating @tf.function repeatedly in a loop, (2) passing tensors with different shapes, (3) passing Python objects instead of tensors. For (1), please define your @tf.function outside of the loop. For (2), @tf.function has experimental_relax_shapes=True option that relaxes argument shapes that can avoid unnecessary retracing. For (3), please refer to https://www.tensorflow.org/tutorials/customization/performance#python_or_tensor_args and https://www.tensorflow.org/api_docs/python/tf/function for  more details.\n"
     ]
    },
    {
     "name": "stdout",
     "output_type": "stream",
     "text": [
      "WARNING:tensorflow:9 out of the last 11 calls to <function train_step at 0x00000204CB605B70> triggered tf.function retracing. Tracing is expensive and the excessive number of tracings could be due to (1) creating @tf.function repeatedly in a loop, (2) passing tensors with different shapes, (3) passing Python objects instead of tensors. For (1), please define your @tf.function outside of the loop. For (2), @tf.function has experimental_relax_shapes=True option that relaxes argument shapes that can avoid unnecessary retracing. For (3), please refer to https://www.tensorflow.org/tutorials/customization/performance#python_or_tensor_args and https://www.tensorflow.org/api_docs/python/tf/function for  more details.\n"
     ]
    },
    {
     "name": "stderr",
     "output_type": "stream",
     "text": [
      "WARNING:tensorflow:9 out of the last 11 calls to <function train_step at 0x00000204CB605B70> triggered tf.function retracing. Tracing is expensive and the excessive number of tracings could be due to (1) creating @tf.function repeatedly in a loop, (2) passing tensors with different shapes, (3) passing Python objects instead of tensors. For (1), please define your @tf.function outside of the loop. For (2), @tf.function has experimental_relax_shapes=True option that relaxes argument shapes that can avoid unnecessary retracing. For (3), please refer to https://www.tensorflow.org/tutorials/customization/performance#python_or_tensor_args and https://www.tensorflow.org/api_docs/python/tf/function for  more details.\n"
     ]
    },
    {
     "name": "stdout",
     "output_type": "stream",
     "text": [
      "WARNING:tensorflow:9 out of the last 11 calls to <function train_step at 0x00000204CB605B70> triggered tf.function retracing. Tracing is expensive and the excessive number of tracings could be due to (1) creating @tf.function repeatedly in a loop, (2) passing tensors with different shapes, (3) passing Python objects instead of tensors. For (1), please define your @tf.function outside of the loop. For (2), @tf.function has experimental_relax_shapes=True option that relaxes argument shapes that can avoid unnecessary retracing. For (3), please refer to https://www.tensorflow.org/tutorials/customization/performance#python_or_tensor_args and https://www.tensorflow.org/api_docs/python/tf/function for  more details.\n"
     ]
    },
    {
     "name": "stderr",
     "output_type": "stream",
     "text": [
      "WARNING:tensorflow:9 out of the last 11 calls to <function train_step at 0x00000204CB605B70> triggered tf.function retracing. Tracing is expensive and the excessive number of tracings could be due to (1) creating @tf.function repeatedly in a loop, (2) passing tensors with different shapes, (3) passing Python objects instead of tensors. For (1), please define your @tf.function outside of the loop. For (2), @tf.function has experimental_relax_shapes=True option that relaxes argument shapes that can avoid unnecessary retracing. For (3), please refer to https://www.tensorflow.org/tutorials/customization/performance#python_or_tensor_args and https://www.tensorflow.org/api_docs/python/tf/function for  more details.\n"
     ]
    },
    {
     "name": "stdout",
     "output_type": "stream",
     "text": [
      "WARNING:tensorflow:9 out of the last 11 calls to <function train_step at 0x00000204CB605B70> triggered tf.function retracing. Tracing is expensive and the excessive number of tracings could be due to (1) creating @tf.function repeatedly in a loop, (2) passing tensors with different shapes, (3) passing Python objects instead of tensors. For (1), please define your @tf.function outside of the loop. For (2), @tf.function has experimental_relax_shapes=True option that relaxes argument shapes that can avoid unnecessary retracing. For (3), please refer to https://www.tensorflow.org/tutorials/customization/performance#python_or_tensor_args and https://www.tensorflow.org/api_docs/python/tf/function for  more details.\n"
     ]
    },
    {
     "name": "stderr",
     "output_type": "stream",
     "text": [
      "WARNING:tensorflow:9 out of the last 11 calls to <function train_step at 0x00000204CB605B70> triggered tf.function retracing. Tracing is expensive and the excessive number of tracings could be due to (1) creating @tf.function repeatedly in a loop, (2) passing tensors with different shapes, (3) passing Python objects instead of tensors. For (1), please define your @tf.function outside of the loop. For (2), @tf.function has experimental_relax_shapes=True option that relaxes argument shapes that can avoid unnecessary retracing. For (3), please refer to https://www.tensorflow.org/tutorials/customization/performance#python_or_tensor_args and https://www.tensorflow.org/api_docs/python/tf/function for  more details.\n"
     ]
    },
    {
     "name": "stdout",
     "output_type": "stream",
     "text": [
      "WARNING:tensorflow:7 out of the last 11 calls to <function train_step at 0x00000204CB605B70> triggered tf.function retracing. Tracing is expensive and the excessive number of tracings could be due to (1) creating @tf.function repeatedly in a loop, (2) passing tensors with different shapes, (3) passing Python objects instead of tensors. For (1), please define your @tf.function outside of the loop. For (2), @tf.function has experimental_relax_shapes=True option that relaxes argument shapes that can avoid unnecessary retracing. For (3), please refer to https://www.tensorflow.org/tutorials/customization/performance#python_or_tensor_args and https://www.tensorflow.org/api_docs/python/tf/function for  more details.\n"
     ]
    },
    {
     "name": "stderr",
     "output_type": "stream",
     "text": [
      "WARNING:tensorflow:7 out of the last 11 calls to <function train_step at 0x00000204CB605B70> triggered tf.function retracing. Tracing is expensive and the excessive number of tracings could be due to (1) creating @tf.function repeatedly in a loop, (2) passing tensors with different shapes, (3) passing Python objects instead of tensors. For (1), please define your @tf.function outside of the loop. For (2), @tf.function has experimental_relax_shapes=True option that relaxes argument shapes that can avoid unnecessary retracing. For (3), please refer to https://www.tensorflow.org/tutorials/customization/performance#python_or_tensor_args and https://www.tensorflow.org/api_docs/python/tf/function for  more details.\n"
     ]
    },
    {
     "name": "stdout",
     "output_type": "stream",
     "text": [
      "WARNING:tensorflow:5 out of the last 11 calls to <function train_step at 0x00000204CB605B70> triggered tf.function retracing. Tracing is expensive and the excessive number of tracings could be due to (1) creating @tf.function repeatedly in a loop, (2) passing tensors with different shapes, (3) passing Python objects instead of tensors. For (1), please define your @tf.function outside of the loop. For (2), @tf.function has experimental_relax_shapes=True option that relaxes argument shapes that can avoid unnecessary retracing. For (3), please refer to https://www.tensorflow.org/tutorials/customization/performance#python_or_tensor_args and https://www.tensorflow.org/api_docs/python/tf/function for  more details.\n"
     ]
    },
    {
     "name": "stderr",
     "output_type": "stream",
     "text": [
      "WARNING:tensorflow:5 out of the last 11 calls to <function train_step at 0x00000204CB605B70> triggered tf.function retracing. Tracing is expensive and the excessive number of tracings could be due to (1) creating @tf.function repeatedly in a loop, (2) passing tensors with different shapes, (3) passing Python objects instead of tensors. For (1), please define your @tf.function outside of the loop. For (2), @tf.function has experimental_relax_shapes=True option that relaxes argument shapes that can avoid unnecessary retracing. For (3), please refer to https://www.tensorflow.org/tutorials/customization/performance#python_or_tensor_args and https://www.tensorflow.org/api_docs/python/tf/function for  more details.\n"
     ]
    },
    {
     "name": "stdout",
     "output_type": "stream",
     "text": [
      "WARNING:tensorflow:5 out of the last 11 calls to <function train_step at 0x00000204CB605B70> triggered tf.function retracing. Tracing is expensive and the excessive number of tracings could be due to (1) creating @tf.function repeatedly in a loop, (2) passing tensors with different shapes, (3) passing Python objects instead of tensors. For (1), please define your @tf.function outside of the loop. For (2), @tf.function has experimental_relax_shapes=True option that relaxes argument shapes that can avoid unnecessary retracing. For (3), please refer to https://www.tensorflow.org/tutorials/customization/performance#python_or_tensor_args and https://www.tensorflow.org/api_docs/python/tf/function for  more details.\n"
     ]
    },
    {
     "name": "stderr",
     "output_type": "stream",
     "text": [
      "WARNING:tensorflow:5 out of the last 11 calls to <function train_step at 0x00000204CB605B70> triggered tf.function retracing. Tracing is expensive and the excessive number of tracings could be due to (1) creating @tf.function repeatedly in a loop, (2) passing tensors with different shapes, (3) passing Python objects instead of tensors. For (1), please define your @tf.function outside of the loop. For (2), @tf.function has experimental_relax_shapes=True option that relaxes argument shapes that can avoid unnecessary retracing. For (3), please refer to https://www.tensorflow.org/tutorials/customization/performance#python_or_tensor_args and https://www.tensorflow.org/api_docs/python/tf/function for  more details.\n"
     ]
    },
    {
     "name": "stdout",
     "output_type": "stream",
     "text": [
      "WARNING:tensorflow:5 out of the last 11 calls to <function train_step at 0x00000204CB605B70> triggered tf.function retracing. Tracing is expensive and the excessive number of tracings could be due to (1) creating @tf.function repeatedly in a loop, (2) passing tensors with different shapes, (3) passing Python objects instead of tensors. For (1), please define your @tf.function outside of the loop. For (2), @tf.function has experimental_relax_shapes=True option that relaxes argument shapes that can avoid unnecessary retracing. For (3), please refer to https://www.tensorflow.org/tutorials/customization/performance#python_or_tensor_args and https://www.tensorflow.org/api_docs/python/tf/function for  more details.\n"
     ]
    },
    {
     "name": "stderr",
     "output_type": "stream",
     "text": [
      "WARNING:tensorflow:5 out of the last 11 calls to <function train_step at 0x00000204CB605B70> triggered tf.function retracing. Tracing is expensive and the excessive number of tracings could be due to (1) creating @tf.function repeatedly in a loop, (2) passing tensors with different shapes, (3) passing Python objects instead of tensors. For (1), please define your @tf.function outside of the loop. For (2), @tf.function has experimental_relax_shapes=True option that relaxes argument shapes that can avoid unnecessary retracing. For (3), please refer to https://www.tensorflow.org/tutorials/customization/performance#python_or_tensor_args and https://www.tensorflow.org/api_docs/python/tf/function for  more details.\n"
     ]
    },
    {
     "name": "stdout",
     "output_type": "stream",
     "text": [
      "WARNING:tensorflow:6 out of the last 12 calls to <function train_step at 0x00000204CB605B70> triggered tf.function retracing. Tracing is expensive and the excessive number of tracings could be due to (1) creating @tf.function repeatedly in a loop, (2) passing tensors with different shapes, (3) passing Python objects instead of tensors. For (1), please define your @tf.function outside of the loop. For (2), @tf.function has experimental_relax_shapes=True option that relaxes argument shapes that can avoid unnecessary retracing. For (3), please refer to https://www.tensorflow.org/tutorials/customization/performance#python_or_tensor_args and https://www.tensorflow.org/api_docs/python/tf/function for  more details.\n"
     ]
    },
    {
     "name": "stderr",
     "output_type": "stream",
     "text": [
      "WARNING:tensorflow:6 out of the last 12 calls to <function train_step at 0x00000204CB605B70> triggered tf.function retracing. Tracing is expensive and the excessive number of tracings could be due to (1) creating @tf.function repeatedly in a loop, (2) passing tensors with different shapes, (3) passing Python objects instead of tensors. For (1), please define your @tf.function outside of the loop. For (2), @tf.function has experimental_relax_shapes=True option that relaxes argument shapes that can avoid unnecessary retracing. For (3), please refer to https://www.tensorflow.org/tutorials/customization/performance#python_or_tensor_args and https://www.tensorflow.org/api_docs/python/tf/function for  more details.\n"
     ]
    },
    {
     "name": "stdout",
     "output_type": "stream",
     "text": [
      "WARNING:tensorflow:7 out of the last 13 calls to <function train_step at 0x00000204CB605B70> triggered tf.function retracing. Tracing is expensive and the excessive number of tracings could be due to (1) creating @tf.function repeatedly in a loop, (2) passing tensors with different shapes, (3) passing Python objects instead of tensors. For (1), please define your @tf.function outside of the loop. For (2), @tf.function has experimental_relax_shapes=True option that relaxes argument shapes that can avoid unnecessary retracing. For (3), please refer to https://www.tensorflow.org/tutorials/customization/performance#python_or_tensor_args and https://www.tensorflow.org/api_docs/python/tf/function for  more details.\n"
     ]
    },
    {
     "name": "stderr",
     "output_type": "stream",
     "text": [
      "WARNING:tensorflow:7 out of the last 13 calls to <function train_step at 0x00000204CB605B70> triggered tf.function retracing. Tracing is expensive and the excessive number of tracings could be due to (1) creating @tf.function repeatedly in a loop, (2) passing tensors with different shapes, (3) passing Python objects instead of tensors. For (1), please define your @tf.function outside of the loop. For (2), @tf.function has experimental_relax_shapes=True option that relaxes argument shapes that can avoid unnecessary retracing. For (3), please refer to https://www.tensorflow.org/tutorials/customization/performance#python_or_tensor_args and https://www.tensorflow.org/api_docs/python/tf/function for  more details.\n"
     ]
    },
    {
     "name": "stdout",
     "output_type": "stream",
     "text": [
      "WARNING:tensorflow:7 out of the last 11 calls to <function train_step at 0x00000204CB605B70> triggered tf.function retracing. Tracing is expensive and the excessive number of tracings could be due to (1) creating @tf.function repeatedly in a loop, (2) passing tensors with different shapes, (3) passing Python objects instead of tensors. For (1), please define your @tf.function outside of the loop. For (2), @tf.function has experimental_relax_shapes=True option that relaxes argument shapes that can avoid unnecessary retracing. For (3), please refer to https://www.tensorflow.org/tutorials/customization/performance#python_or_tensor_args and https://www.tensorflow.org/api_docs/python/tf/function for  more details.\n"
     ]
    },
    {
     "name": "stderr",
     "output_type": "stream",
     "text": [
      "WARNING:tensorflow:7 out of the last 11 calls to <function train_step at 0x00000204CB605B70> triggered tf.function retracing. Tracing is expensive and the excessive number of tracings could be due to (1) creating @tf.function repeatedly in a loop, (2) passing tensors with different shapes, (3) passing Python objects instead of tensors. For (1), please define your @tf.function outside of the loop. For (2), @tf.function has experimental_relax_shapes=True option that relaxes argument shapes that can avoid unnecessary retracing. For (3), please refer to https://www.tensorflow.org/tutorials/customization/performance#python_or_tensor_args and https://www.tensorflow.org/api_docs/python/tf/function for  more details.\n"
     ]
    },
    {
     "name": "stdout",
     "output_type": "stream",
     "text": [
      "WARNING:tensorflow:6 out of the last 11 calls to <function train_step at 0x00000204CB605B70> triggered tf.function retracing. Tracing is expensive and the excessive number of tracings could be due to (1) creating @tf.function repeatedly in a loop, (2) passing tensors with different shapes, (3) passing Python objects instead of tensors. For (1), please define your @tf.function outside of the loop. For (2), @tf.function has experimental_relax_shapes=True option that relaxes argument shapes that can avoid unnecessary retracing. For (3), please refer to https://www.tensorflow.org/tutorials/customization/performance#python_or_tensor_args and https://www.tensorflow.org/api_docs/python/tf/function for  more details.\n"
     ]
    },
    {
     "name": "stderr",
     "output_type": "stream",
     "text": [
      "WARNING:tensorflow:6 out of the last 11 calls to <function train_step at 0x00000204CB605B70> triggered tf.function retracing. Tracing is expensive and the excessive number of tracings could be due to (1) creating @tf.function repeatedly in a loop, (2) passing tensors with different shapes, (3) passing Python objects instead of tensors. For (1), please define your @tf.function outside of the loop. For (2), @tf.function has experimental_relax_shapes=True option that relaxes argument shapes that can avoid unnecessary retracing. For (3), please refer to https://www.tensorflow.org/tutorials/customization/performance#python_or_tensor_args and https://www.tensorflow.org/api_docs/python/tf/function for  more details.\n"
     ]
    },
    {
     "name": "stdout",
     "output_type": "stream",
     "text": [
      "WARNING:tensorflow:5 out of the last 13 calls to <function train_step at 0x00000204CB605B70> triggered tf.function retracing. Tracing is expensive and the excessive number of tracings could be due to (1) creating @tf.function repeatedly in a loop, (2) passing tensors with different shapes, (3) passing Python objects instead of tensors. For (1), please define your @tf.function outside of the loop. For (2), @tf.function has experimental_relax_shapes=True option that relaxes argument shapes that can avoid unnecessary retracing. For (3), please refer to https://www.tensorflow.org/tutorials/customization/performance#python_or_tensor_args and https://www.tensorflow.org/api_docs/python/tf/function for  more details.\n"
     ]
    },
    {
     "name": "stderr",
     "output_type": "stream",
     "text": [
      "WARNING:tensorflow:5 out of the last 13 calls to <function train_step at 0x00000204CB605B70> triggered tf.function retracing. Tracing is expensive and the excessive number of tracings could be due to (1) creating @tf.function repeatedly in a loop, (2) passing tensors with different shapes, (3) passing Python objects instead of tensors. For (1), please define your @tf.function outside of the loop. For (2), @tf.function has experimental_relax_shapes=True option that relaxes argument shapes that can avoid unnecessary retracing. For (3), please refer to https://www.tensorflow.org/tutorials/customization/performance#python_or_tensor_args and https://www.tensorflow.org/api_docs/python/tf/function for  more details.\n"
     ]
    },
    {
     "name": "stdout",
     "output_type": "stream",
     "text": [
      "WARNING:tensorflow:5 out of the last 12 calls to <function train_step at 0x00000204CB605B70> triggered tf.function retracing. Tracing is expensive and the excessive number of tracings could be due to (1) creating @tf.function repeatedly in a loop, (2) passing tensors with different shapes, (3) passing Python objects instead of tensors. For (1), please define your @tf.function outside of the loop. For (2), @tf.function has experimental_relax_shapes=True option that relaxes argument shapes that can avoid unnecessary retracing. For (3), please refer to https://www.tensorflow.org/tutorials/customization/performance#python_or_tensor_args and https://www.tensorflow.org/api_docs/python/tf/function for  more details.\n"
     ]
    },
    {
     "name": "stderr",
     "output_type": "stream",
     "text": [
      "WARNING:tensorflow:5 out of the last 12 calls to <function train_step at 0x00000204CB605B70> triggered tf.function retracing. Tracing is expensive and the excessive number of tracings could be due to (1) creating @tf.function repeatedly in a loop, (2) passing tensors with different shapes, (3) passing Python objects instead of tensors. For (1), please define your @tf.function outside of the loop. For (2), @tf.function has experimental_relax_shapes=True option that relaxes argument shapes that can avoid unnecessary retracing. For (3), please refer to https://www.tensorflow.org/tutorials/customization/performance#python_or_tensor_args and https://www.tensorflow.org/api_docs/python/tf/function for  more details.\n"
     ]
    },
    {
     "name": "stdout",
     "output_type": "stream",
     "text": [
      "WARNING:tensorflow:5 out of the last 17 calls to <function train_step at 0x00000204CB605B70> triggered tf.function retracing. Tracing is expensive and the excessive number of tracings could be due to (1) creating @tf.function repeatedly in a loop, (2) passing tensors with different shapes, (3) passing Python objects instead of tensors. For (1), please define your @tf.function outside of the loop. For (2), @tf.function has experimental_relax_shapes=True option that relaxes argument shapes that can avoid unnecessary retracing. For (3), please refer to https://www.tensorflow.org/tutorials/customization/performance#python_or_tensor_args and https://www.tensorflow.org/api_docs/python/tf/function for  more details.\n"
     ]
    },
    {
     "name": "stderr",
     "output_type": "stream",
     "text": [
      "WARNING:tensorflow:5 out of the last 17 calls to <function train_step at 0x00000204CB605B70> triggered tf.function retracing. Tracing is expensive and the excessive number of tracings could be due to (1) creating @tf.function repeatedly in a loop, (2) passing tensors with different shapes, (3) passing Python objects instead of tensors. For (1), please define your @tf.function outside of the loop. For (2), @tf.function has experimental_relax_shapes=True option that relaxes argument shapes that can avoid unnecessary retracing. For (3), please refer to https://www.tensorflow.org/tutorials/customization/performance#python_or_tensor_args and https://www.tensorflow.org/api_docs/python/tf/function for  more details.\n"
     ]
    },
    {
     "name": "stdout",
     "output_type": "stream",
     "text": [
      "Epoch 1 Batch 100 Loss 4.1491 Accuracy 0.0142\n",
      "Epoch 1 Batch 200 Loss 4.0583 Accuracy 0.0208\n",
      "Epoch 1 Batch 300 Loss 3.9170 Accuracy 0.0253\n",
      "Epoch 1 Batch 400 Loss 3.7436 Accuracy 0.0315\n",
      "Epoch 1 Batch 500 Loss 3.5944 Accuracy 0.0372\n",
      "Epoch 1 Batch 600 Loss 3.4740 Accuracy 0.0443\n",
      "Epoch 1 Batch 700 Loss 3.3653 Accuracy 0.0514\n",
      "Epoch1 Loss3.3634 Accuracy0.0515\n",
      "Time take for 1 epoch:789.3295850753784 secs\n",
      "\n",
      "Epoch 2 Batch 0 Loss 2.4140 Accuracy 0.0991\n",
      "Epoch 2 Batch 100 Loss 2.5369 Accuracy 0.1061\n",
      "Epoch 2 Batch 200 Loss 2.5053 Accuracy 0.1110\n",
      "Epoch 2 Batch 300 Loss 2.4760 Accuracy 0.1145\n",
      "Epoch 2 Batch 400 Loss 2.4494 Accuracy 0.1178\n",
      "Epoch 2 Batch 500 Loss 2.4171 Accuracy 0.1208\n",
      "Epoch 2 Batch 600 Loss 2.3884 Accuracy 0.1232\n",
      "Epoch 2 Batch 700 Loss 2.3662 Accuracy 0.1257\n",
      "Epoch2 Loss2.3662 Accuracy0.1258\n",
      "Time take for 1 epoch:683.194947719574 secs\n",
      "\n",
      "Epoch 3 Batch 0 Loss 1.9389 Accuracy 0.1426\n",
      "Epoch 3 Batch 100 Loss 2.1667 Accuracy 0.1445\n",
      "Epoch 3 Batch 200 Loss 2.1565 Accuracy 0.1450\n",
      "Epoch 3 Batch 300 Loss 2.1509 Accuracy 0.1464\n",
      "Epoch 3 Batch 400 Loss 2.1330 Accuracy 0.1477\n",
      "Epoch 3 Batch 500 Loss 2.1174 Accuracy 0.1490\n",
      "Epoch 3 Batch 600 Loss 2.1016 Accuracy 0.1507\n",
      "Epoch 3 Batch 700 Loss 2.0916 Accuracy 0.1524\n",
      "Epoch3 Loss2.0919 Accuracy0.1524\n",
      "Time take for 1 epoch:781.2729210853577 secs\n",
      "\n",
      "Epoch 4 Batch 0 Loss 1.9296 Accuracy 0.1591\n",
      "Epoch 4 Batch 100 Loss 1.9269 Accuracy 0.1685\n",
      "Epoch 4 Batch 200 Loss 1.9203 Accuracy 0.1712\n",
      "Epoch 4 Batch 300 Loss 1.9137 Accuracy 0.1732\n",
      "Epoch 4 Batch 400 Loss 1.8981 Accuracy 0.1751\n",
      "Epoch 4 Batch 500 Loss 1.8813 Accuracy 0.1770\n",
      "Epoch 4 Batch 600 Loss 1.8708 Accuracy 0.1793\n",
      "Epoch 4 Batch 700 Loss 1.8561 Accuracy 0.1810\n",
      "Epoch4 Loss1.8558 Accuracy0.1811\n",
      "Time take for 1 epoch:814.0205121040344 secs\n",
      "\n",
      "Epoch 5 Batch 0 Loss 1.5256 Accuracy 0.1871\n",
      "Epoch 5 Batch 100 Loss 1.6796 Accuracy 0.1978\n",
      "Epoch 5 Batch 200 Loss 1.6657 Accuracy 0.2003\n",
      "Epoch 5 Batch 300 Loss 1.6654 Accuracy 0.2021\n",
      "Epoch 5 Batch 400 Loss 1.6578 Accuracy 0.2033\n",
      "Epoch 5 Batch 500 Loss 1.6522 Accuracy 0.2044\n",
      "Epoch 5 Batch 600 Loss 1.6468 Accuracy 0.2059\n",
      "Epoch 5 Batch 700 Loss 1.6371 Accuracy 0.2070\n",
      "Epoch5 Loss1.6371 Accuracy0.2070\n",
      "Time take for 1 epoch:865.3488719463348 secs\n",
      "\n",
      "Epoch 6 Batch 0 Loss 1.5774 Accuracy 0.2217\n",
      "Epoch 6 Batch 100 Loss 1.4883 Accuracy 0.2216\n",
      "Epoch 6 Batch 200 Loss 1.4859 Accuracy 0.2218\n",
      "Epoch 6 Batch 300 Loss 1.4804 Accuracy 0.2232\n",
      "Epoch 6 Batch 400 Loss 1.4791 Accuracy 0.2250\n",
      "Epoch 6 Batch 500 Loss 1.4719 Accuracy 0.2256\n",
      "Epoch 6 Batch 600 Loss 1.4621 Accuracy 0.2263\n",
      "Epoch 6 Batch 700 Loss 1.4542 Accuracy 0.2273\n",
      "Epoch6 Loss1.4538 Accuracy0.2273\n",
      "Time take for 1 epoch:952.4843163490295 secs\n",
      "\n",
      "Epoch 7 Batch 0 Loss 1.3309 Accuracy 0.2711\n",
      "Epoch 7 Batch 100 Loss 1.2889 Accuracy 0.2450\n",
      "Epoch 7 Batch 200 Loss 1.2921 Accuracy 0.2441\n",
      "Epoch 7 Batch 300 Loss 1.2889 Accuracy 0.2452\n",
      "Epoch 7 Batch 400 Loss 1.2869 Accuracy 0.2463\n",
      "Epoch 7 Batch 500 Loss 1.2764 Accuracy 0.2471\n",
      "Epoch 7 Batch 600 Loss 1.2728 Accuracy 0.2480\n",
      "Epoch 7 Batch 700 Loss 1.2657 Accuracy 0.2487\n",
      "Epoch7 Loss1.2657 Accuracy0.2487\n",
      "Time take for 1 epoch:939.5366396903992 secs\n",
      "\n",
      "Epoch 8 Batch 0 Loss 1.2105 Accuracy 0.2991\n",
      "Epoch 8 Batch 100 Loss 1.1181 Accuracy 0.2664\n",
      "Epoch 8 Batch 200 Loss 1.1182 Accuracy 0.2655\n",
      "Epoch 8 Batch 300 Loss 1.1172 Accuracy 0.2651\n",
      "Epoch 8 Batch 400 Loss 1.1166 Accuracy 0.2658\n",
      "Epoch 8 Batch 500 Loss 1.1171 Accuracy 0.2665\n",
      "Epoch 8 Batch 600 Loss 1.1185 Accuracy 0.2670\n",
      "Epoch 8 Batch 700 Loss 1.1154 Accuracy 0.2672\n",
      "Epoch8 Loss1.1155 Accuracy0.2673\n",
      "Time take for 1 epoch:984.4971215724945 secs\n",
      "\n",
      "Epoch 9 Batch 0 Loss 0.9434 Accuracy 0.3173\n",
      "Epoch 9 Batch 100 Loss 0.9828 Accuracy 0.2802\n",
      "Epoch 9 Batch 200 Loss 0.9932 Accuracy 0.2788\n",
      "Epoch 9 Batch 300 Loss 0.9949 Accuracy 0.2788\n",
      "Epoch 9 Batch 400 Loss 0.9975 Accuracy 0.2799\n",
      "Epoch 9 Batch 500 Loss 0.9988 Accuracy 0.2804\n",
      "Epoch 9 Batch 600 Loss 1.0012 Accuracy 0.2807\n",
      "Epoch 9 Batch 700 Loss 1.0054 Accuracy 0.2804\n",
      "Epoch9 Loss1.0057 Accuracy0.2804\n",
      "Time take for 1 epoch:1015.5219452381134 secs\n",
      "\n",
      "Epoch 10 Batch 0 Loss 0.8276 Accuracy 0.3011\n",
      "Epoch 10 Batch 100 Loss 0.8985 Accuracy 0.2911\n",
      "Epoch 10 Batch 200 Loss 0.9055 Accuracy 0.2914\n",
      "Epoch 10 Batch 300 Loss 0.9072 Accuracy 0.2912\n",
      "Epoch 10 Batch 400 Loss 0.9113 Accuracy 0.2912\n",
      "Epoch 10 Batch 500 Loss 0.9153 Accuracy 0.2913\n",
      "Epoch 10 Batch 600 Loss 0.9208 Accuracy 0.2915\n",
      "Epoch 10 Batch 700 Loss 0.9234 Accuracy 0.2911\n",
      "Epoch10 Loss0.9231 Accuracy0.2911\n",
      "Time take for 1 epoch:1030.3166749477386 secs\n",
      "\n",
      "Epoch 11 Batch 0 Loss 0.8558 Accuracy 0.3062\n",
      "Epoch 11 Batch 100 Loss 0.8276 Accuracy 0.3030\n",
      "Epoch 11 Batch 200 Loss 0.8368 Accuracy 0.3016\n",
      "Epoch 11 Batch 300 Loss 0.8420 Accuracy 0.3008\n",
      "Epoch 11 Batch 400 Loss 0.8449 Accuracy 0.3007\n",
      "Epoch 11 Batch 500 Loss 0.8516 Accuracy 0.3003\n",
      "Epoch 11 Batch 600 Loss 0.8541 Accuracy 0.3001\n",
      "Epoch 11 Batch 700 Loss 0.8577 Accuracy 0.2996\n",
      "Epoch11 Loss0.8577 Accuracy0.2996\n",
      "Time take for 1 epoch:1069.866061449051 secs\n",
      "\n",
      "Epoch 12 Batch 0 Loss 0.7076 Accuracy 0.3007\n",
      "Epoch 12 Batch 100 Loss 0.7826 Accuracy 0.3130\n",
      "Epoch 12 Batch 200 Loss 0.7852 Accuracy 0.3099\n",
      "Epoch 12 Batch 300 Loss 0.7907 Accuracy 0.3092\n",
      "Epoch 12 Batch 400 Loss 0.7939 Accuracy 0.3085\n",
      "Epoch 12 Batch 500 Loss 0.7998 Accuracy 0.3081\n",
      "Epoch 12 Batch 600 Loss 0.8043 Accuracy 0.3077\n",
      "Epoch 12 Batch 700 Loss 0.8051 Accuracy 0.3069\n",
      "Epoch12 Loss0.8050 Accuracy0.3069\n",
      "Time take for 1 epoch:1019.3295080661774 secs\n",
      "\n",
      "Epoch 13 Batch 0 Loss 0.7883 Accuracy 0.3438\n",
      "Epoch 13 Batch 100 Loss 0.7278 Accuracy 0.3156\n",
      "Epoch 13 Batch 200 Loss 0.7288 Accuracy 0.3138\n",
      "Epoch 13 Batch 300 Loss 0.7383 Accuracy 0.3139\n",
      "Epoch 13 Batch 400 Loss 0.7425 Accuracy 0.3135\n",
      "Epoch 13 Batch 500 Loss 0.7486 Accuracy 0.3140\n",
      "Epoch 13 Batch 600 Loss 0.7544 Accuracy 0.3136\n",
      "Epoch 13 Batch 700 Loss 0.7571 Accuracy 0.3132\n",
      "Epoch13 Loss0.7575 Accuracy0.3133\n",
      "Time take for 1 epoch:1030.6490032672882 secs\n",
      "\n",
      "Epoch 14 Batch 0 Loss 0.6768 Accuracy 0.3150\n",
      "Epoch 14 Batch 100 Loss 0.6748 Accuracy 0.3217\n",
      "Epoch 14 Batch 200 Loss 0.6820 Accuracy 0.3211\n",
      "Epoch 14 Batch 300 Loss 0.6917 Accuracy 0.3209\n",
      "Epoch 14 Batch 400 Loss 0.7015 Accuracy 0.3204\n",
      "Epoch 14 Batch 500 Loss 0.7062 Accuracy 0.3203\n",
      "Epoch 14 Batch 600 Loss 0.7113 Accuracy 0.3199\n",
      "Epoch 14 Batch 700 Loss 0.7179 Accuracy 0.3197\n",
      "Epoch14 Loss0.7181 Accuracy0.3196\n",
      "Time take for 1 epoch:1084.0282969474792 secs\n",
      "\n",
      "Epoch 15 Batch 0 Loss 0.5729 Accuracy 0.3332\n",
      "Epoch 15 Batch 100 Loss 0.6508 Accuracy 0.3334\n",
      "Epoch 15 Batch 200 Loss 0.6579 Accuracy 0.3288\n",
      "Epoch 15 Batch 300 Loss 0.6602 Accuracy 0.3272\n",
      "Epoch 15 Batch 400 Loss 0.6645 Accuracy 0.3266\n",
      "Epoch 15 Batch 500 Loss 0.6695 Accuracy 0.3252\n",
      "Epoch 15 Batch 600 Loss 0.6769 Accuracy 0.3250\n",
      "Epoch 15 Batch 700 Loss 0.6820 Accuracy 0.3244\n",
      "Epoch15 Loss0.6821 Accuracy0.3244\n",
      "Time take for 1 epoch:1115.640896320343 secs\n",
      "\n",
      "Epoch 16 Batch 0 Loss 0.5951 Accuracy 0.3534\n",
      "Epoch 16 Batch 100 Loss 0.6225 Accuracy 0.3366\n",
      "Epoch 16 Batch 200 Loss 0.6267 Accuracy 0.3337\n",
      "Epoch 16 Batch 300 Loss 0.6329 Accuracy 0.3329\n",
      "Epoch 16 Batch 400 Loss 0.6365 Accuracy 0.3308\n",
      "Epoch 16 Batch 500 Loss 0.6432 Accuracy 0.3306\n",
      "Epoch 16 Batch 600 Loss 0.6468 Accuracy 0.3297\n",
      "Epoch 16 Batch 700 Loss 0.6505 Accuracy 0.3293\n",
      "Epoch16 Loss0.6506 Accuracy0.3293\n",
      "Time take for 1 epoch:1122.190731048584 secs\n",
      "\n",
      "Epoch 17 Batch 0 Loss 0.4979 Accuracy 0.3145\n",
      "Epoch 17 Batch 100 Loss 0.5856 Accuracy 0.3409\n",
      "Epoch 17 Batch 200 Loss 0.5959 Accuracy 0.3382\n",
      "Epoch 17 Batch 300 Loss 0.6025 Accuracy 0.3361\n",
      "Epoch 17 Batch 400 Loss 0.6085 Accuracy 0.3353\n",
      "Epoch 17 Batch 500 Loss 0.6135 Accuracy 0.3350\n",
      "Epoch 17 Batch 600 Loss 0.6185 Accuracy 0.3345\n",
      "Epoch 17 Batch 700 Loss 0.6236 Accuracy 0.3338\n",
      "Epoch17 Loss0.6237 Accuracy0.3339\n",
      "Time take for 1 epoch:1095.1419968605042 secs\n",
      "\n",
      "Epoch 18 Batch 0 Loss 0.6180 Accuracy 0.3564\n",
      "Epoch 18 Batch 100 Loss 0.5602 Accuracy 0.3439\n",
      "Epoch 18 Batch 200 Loss 0.5721 Accuracy 0.3428\n",
      "Epoch 18 Batch 300 Loss 0.5811 Accuracy 0.3415\n",
      "Epoch 18 Batch 400 Loss 0.5857 Accuracy 0.3406\n",
      "Epoch 18 Batch 500 Loss 0.5894 Accuracy 0.3396\n",
      "Epoch 18 Batch 600 Loss 0.5944 Accuracy 0.3385\n",
      "Epoch 18 Batch 700 Loss 0.5987 Accuracy 0.3378\n",
      "Epoch18 Loss0.5986 Accuracy0.3378\n",
      "Time take for 1 epoch:1134.6649692058563 secs\n",
      "\n",
      "Epoch 19 Batch 0 Loss 0.5247 Accuracy 0.3365\n",
      "Epoch 19 Batch 100 Loss 0.5365 Accuracy 0.3456\n",
      "Epoch 19 Batch 200 Loss 0.5472 Accuracy 0.3437\n",
      "Epoch 19 Batch 300 Loss 0.5545 Accuracy 0.3448\n"
     ]
    },
    {
     "name": "stdout",
     "output_type": "stream",
     "text": [
      "Epoch 19 Batch 400 Loss 0.5578 Accuracy 0.3432\n",
      "Epoch 19 Batch 500 Loss 0.5622 Accuracy 0.3421\n",
      "Epoch 19 Batch 600 Loss 0.5682 Accuracy 0.3416\n",
      "Epoch 19 Batch 700 Loss 0.5750 Accuracy 0.3411\n",
      "Epoch19 Loss0.5748 Accuracy0.3411\n",
      "Time take for 1 epoch:1105.7110526561737 secs\n",
      "\n",
      "Epoch 20 Batch 0 Loss 0.5014 Accuracy 0.3233\n",
      "Epoch 20 Batch 100 Loss 0.5196 Accuracy 0.3485\n",
      "Epoch 20 Batch 200 Loss 0.5238 Accuracy 0.3456\n",
      "Epoch 20 Batch 300 Loss 0.5309 Accuracy 0.3450\n",
      "Epoch 20 Batch 400 Loss 0.5368 Accuracy 0.3456\n",
      "Epoch 20 Batch 500 Loss 0.5417 Accuracy 0.3456\n",
      "Epoch 20 Batch 600 Loss 0.5486 Accuracy 0.3447\n",
      "Epoch 20 Batch 700 Loss 0.5541 Accuracy 0.3442\n",
      "Epoch20 Loss0.5544 Accuracy0.3442\n",
      "Time take for 1 epoch:1125.6907103061676 secs\n",
      "\n"
     ]
    }
   ],
   "source": [
    "import time\n",
    "train_loss = keras.metrics.Mean(name = 'train_loss')\n",
    "train_accuracy = keras.metrics.SparseCategoricalAccuracy(name = 'train_accuracy')\n",
    "@tf.function\n",
    "def train_step(inp,tar):\n",
    "    tar_inp = tar[:,:-1]\n",
    "    tar_real = tar[:,1:]\n",
    "    \n",
    "    encoder_padding_mask,decoder_mask,encoder_decoder_padding_mask = create_mask(inp,tar_inp)\n",
    "    \n",
    "    with tf.GradientTape() as tape:\n",
    "        predictions,_ = transformer(inp,tar_inp,True,encoder_padding_mask,decoder_mask,encoder_decoder_padding_mask)\n",
    "        loss = loss_function(tar_real,predictions)\n",
    "    gradients = tape.gradient(loss,transformer.trainable_variables)\n",
    "    optimizer.apply_gradients(zip(gradients,transformer.trainable_variables))\n",
    "    train_loss(loss)\n",
    "    train_accuracy(tar_real,predictions)\n",
    "\n",
    "epochs = 20\n",
    "for epoch in range(epochs):\n",
    "    start = time.time()\n",
    "    train_loss.reset_states()\n",
    "    train_accuracy.reset_states()\n",
    "    \n",
    "    for (batch,(inp,tar)) in enumerate(train_dataset):\n",
    "        train_step(inp,tar)\n",
    "        if batch % 100 ==0:\n",
    "            print('Epoch {} Batch {} Loss {:.4f} Accuracy {:.4f}'.format(epoch+1,batch,train_loss.result(),train_accuracy.result()))\n",
    "    print('Epoch{} Loss{:.4f} Accuracy{:.4f}'.format(epoch+1,train_loss.result(),train_accuracy.result()))\n",
    "    print('Time take for 1 epoch:{} secs\\n'.format(time.time()-start))\n"
   ]
  },
  {
   "cell_type": "code",
   "execution_count": 51,
   "metadata": {},
   "outputs": [],
   "source": [
    "\"\"\"\n",
    "eg: A B C D -> E F G H.\n",
    "Train: A B C D , E F G -> F G H\n",
    "Eval: A B C D -> E \n",
    "      A B C D ,E -> F\n",
    "      A B C D ,E F -> G \n",
    "\"\"\"\n",
    "def evaluate(inp_sentence):\n",
    "    input_id_sentence = [pt_tokenizer.vocab_size] + pt_tokenizer.encode(inp_sentence) + [pt_tokenizer.vocab_size+1]\n",
    "    # encoder_input.shape: (1,input_sentence_length)\n",
    "    encoder_input = tf.expand_dims(input_id_sentence,0)\n",
    "    # decoder_input.shape: (1,1)\n",
    "    decoder_input = tf.expand_dims([en_tokenizer.vocab_size],0)\n",
    "    for i in range(max_length):\n",
    "        encoder_padding_mask,decoder_mask,encoder_decoder_padding_mask = create_mask(encoder_input,decoder_input)\n",
    "        # predictions.shape:(batch_size,ouput_target_len,target_vocab_size)\n",
    "        predictions,attention_weights = transformer(encoder_input,decoder_input,False,encoder_padding_mask,decoder_mask,encoder_decoder_padding_mask)\n",
    "        \n",
    "        # predictions.shape:(batch_size,target_vocab_size)\n",
    "        predictions = predictions[:,-1,:]\n",
    "        predicted_id = tf.cast(tf.argmax(predictions,axis = -1),tf.int32)\n",
    "        if tf.equal(predicted_id,en_tokenizer.vocab_size+1):\n",
    "            return tf.squeeze(decoder_input,axis=0),attention_weights\n",
    "        decoder_input = tf.concat([decoder_input,[predicted_id]],axis=-1)\n",
    "    return tf.squeeze(decoder_input,axis=0),attention_weights"
   ]
  },
  {
   "cell_type": "code",
   "execution_count": 56,
   "metadata": {},
   "outputs": [],
   "source": [
    "def plot_encoder_decoder_attention(attention,input_sentence,result,layer_name):\n",
    "    fig = plt.figure(figsize = (16,8))\n",
    "    input_id_sentence = pt_tokenizer.encode(input_sentence)\n",
    "    # attention.shape: (1，num_heads,tar_len,input_len)\n",
    "    attention = tf.squeeze(attention[layer_name],axis = 0)\n",
    "    for head in range(attention.shape[0]):\n",
    "        ax = fig.add_subplot(2,4,head+1)\n",
    "        ax.matshow(attention[head][:-1,:])\n",
    "        fontdict = {'fontsize':10}\n",
    "        ax.set_xticks(range(len(input_id_sentence)+2))\n",
    "        ax.set_yticks(range(len(result)))\n",
    "        \n",
    "        ax.set_ylim(len(result)-1.5,-0.5)\n",
    "        \n",
    "        ax.set_xticklabels(\n",
    "        ['<start>']+[pt_tokenizer.decode([i])for i in input_id_sentence] +['<end>'],\n",
    "        fontdict = fontdict,rotation = 90)\n",
    "        ax.set_yticklabels([en_tokenizer.decode([i])for i in result if i<en_tokenizer.vocab_size],\n",
    "                          fontdict = fontdict)\n",
    "        ax.set_xlabel('Head {}'.format(head+1))\n",
    "    plt.tight_layout()\n",
    "    plt.show()\n",
    "        "
   ]
  },
  {
   "cell_type": "code",
   "execution_count": 57,
   "metadata": {},
   "outputs": [],
   "source": [
    "def translate(input_sentence,layer_name=''):\n",
    "    result,attention_weights = evaluate(input_sentence)\n",
    "    predicted_sentence = en_tokenizer.decode([ i for i in result if i <en_tokenizer.vocab_size])\n",
    "    print(\"Input:{}\".format(input_sentence))\n",
    "    print(\"Predicted translation:{}\".format(predicted_sentence))\n",
    "    if layer_name:\n",
    "        plot_encoder_decoder_attention(attention_weights,input_sentence,result,layer_name)"
   ]
  },
  {
   "cell_type": "code",
   "execution_count": 58,
   "metadata": {},
   "outputs": [
    {
     "name": "stdout",
     "output_type": "stream",
     "text": [
      "Input:está muito frio aqui\n",
      "Predicted translation:it 's very cold here .\n"
     ]
    }
   ],
   "source": [
    "translate('está muito frio aqui')"
   ]
  },
  {
   "cell_type": "code",
   "execution_count": 59,
   "metadata": {},
   "outputs": [
    {
     "name": "stdout",
     "output_type": "stream",
     "text": [
      "Input:está muito frio aqui\n",
      "Predicted translation:it 's very cold here .\n"
     ]
    },
    {
     "ename": "ValueError",
     "evalue": "The number of FixedLocator locations (8), usually from a call to set_ticks, does not match the number of ticklabels (7).",
     "output_type": "error",
     "traceback": [
      "\u001b[1;31m---------------------------------------------------------------------------\u001b[0m",
      "\u001b[1;31mValueError\u001b[0m                                Traceback (most recent call last)",
      "\u001b[1;32m<ipython-input-59-0497666b4945>\u001b[0m in \u001b[0;36m<module>\u001b[1;34m()\u001b[0m\n\u001b[1;32m----> 1\u001b[1;33m \u001b[0mtranslate\u001b[0m\u001b[1;33m(\u001b[0m\u001b[1;34m'está muito frio aqui'\u001b[0m\u001b[1;33m,\u001b[0m\u001b[0mlayer_name\u001b[0m \u001b[1;33m=\u001b[0m \u001b[1;34m'decoder_layer4_att2'\u001b[0m\u001b[1;33m)\u001b[0m\u001b[1;33m\u001b[0m\u001b[0m\n\u001b[0m",
      "\u001b[1;32m<ipython-input-57-4f22594f3284>\u001b[0m in \u001b[0;36mtranslate\u001b[1;34m(input_sentence, layer_name)\u001b[0m\n\u001b[0;32m      5\u001b[0m     \u001b[0mprint\u001b[0m\u001b[1;33m(\u001b[0m\u001b[1;34m\"Predicted translation:{}\"\u001b[0m\u001b[1;33m.\u001b[0m\u001b[0mformat\u001b[0m\u001b[1;33m(\u001b[0m\u001b[0mpredicted_sentence\u001b[0m\u001b[1;33m)\u001b[0m\u001b[1;33m)\u001b[0m\u001b[1;33m\u001b[0m\u001b[0m\n\u001b[0;32m      6\u001b[0m     \u001b[1;32mif\u001b[0m \u001b[0mlayer_name\u001b[0m\u001b[1;33m:\u001b[0m\u001b[1;33m\u001b[0m\u001b[0m\n\u001b[1;32m----> 7\u001b[1;33m         \u001b[0mplot_encoder_decoder_attention\u001b[0m\u001b[1;33m(\u001b[0m\u001b[0mattention_weights\u001b[0m\u001b[1;33m,\u001b[0m\u001b[0minput_sentence\u001b[0m\u001b[1;33m,\u001b[0m\u001b[0mresult\u001b[0m\u001b[1;33m,\u001b[0m\u001b[0mlayer_name\u001b[0m\u001b[1;33m)\u001b[0m\u001b[1;33m\u001b[0m\u001b[0m\n\u001b[0m",
      "\u001b[1;32m<ipython-input-56-5112c0a2a78f>\u001b[0m in \u001b[0;36mplot_encoder_decoder_attention\u001b[1;34m(attention, input_sentence, result, layer_name)\u001b[0m\n\u001b[0;32m     17\u001b[0m         fontdict = fontdict,rotation = 90)\n\u001b[0;32m     18\u001b[0m         ax.set_yticklabels([en_tokenizer.decode([i])for i in result if i<en_tokenizer.vocab_size],\n\u001b[1;32m---> 19\u001b[1;33m                           fontdict = fontdict)\n\u001b[0m\u001b[0;32m     20\u001b[0m         \u001b[0max\u001b[0m\u001b[1;33m.\u001b[0m\u001b[0mset_xlabel\u001b[0m\u001b[1;33m(\u001b[0m\u001b[1;34m'Head {}'\u001b[0m\u001b[1;33m.\u001b[0m\u001b[0mformat\u001b[0m\u001b[1;33m(\u001b[0m\u001b[0mhead\u001b[0m\u001b[1;33m+\u001b[0m\u001b[1;36m1\u001b[0m\u001b[1;33m)\u001b[0m\u001b[1;33m)\u001b[0m\u001b[1;33m\u001b[0m\u001b[0m\n\u001b[0;32m     21\u001b[0m     \u001b[0mplt\u001b[0m\u001b[1;33m.\u001b[0m\u001b[0mtight_layout\u001b[0m\u001b[1;33m(\u001b[0m\u001b[1;33m)\u001b[0m\u001b[1;33m\u001b[0m\u001b[0m\n",
      "\u001b[1;32m~\\AppData\\Roaming\\Python\\Python37\\site-packages\\matplotlib\\axes\\_base.py\u001b[0m in \u001b[0;36mwrapper\u001b[1;34m(self, *args, **kwargs)\u001b[0m\n\u001b[0;32m     61\u001b[0m \u001b[1;33m\u001b[0m\u001b[0m\n\u001b[0;32m     62\u001b[0m         \u001b[1;32mdef\u001b[0m \u001b[0mwrapper\u001b[0m\u001b[1;33m(\u001b[0m\u001b[0mself\u001b[0m\u001b[1;33m,\u001b[0m \u001b[1;33m*\u001b[0m\u001b[0margs\u001b[0m\u001b[1;33m,\u001b[0m \u001b[1;33m**\u001b[0m\u001b[0mkwargs\u001b[0m\u001b[1;33m)\u001b[0m\u001b[1;33m:\u001b[0m\u001b[1;33m\u001b[0m\u001b[0m\n\u001b[1;32m---> 63\u001b[1;33m             \u001b[1;32mreturn\u001b[0m \u001b[0mget_method\u001b[0m\u001b[1;33m(\u001b[0m\u001b[0mself\u001b[0m\u001b[1;33m)\u001b[0m\u001b[1;33m(\u001b[0m\u001b[1;33m*\u001b[0m\u001b[0margs\u001b[0m\u001b[1;33m,\u001b[0m \u001b[1;33m**\u001b[0m\u001b[0mkwargs\u001b[0m\u001b[1;33m)\u001b[0m\u001b[1;33m\u001b[0m\u001b[0m\n\u001b[0m\u001b[0;32m     64\u001b[0m \u001b[1;33m\u001b[0m\u001b[0m\n\u001b[0;32m     65\u001b[0m         \u001b[0mwrapper\u001b[0m\u001b[1;33m.\u001b[0m\u001b[0m__module__\u001b[0m \u001b[1;33m=\u001b[0m \u001b[0mowner\u001b[0m\u001b[1;33m.\u001b[0m\u001b[0m__module__\u001b[0m\u001b[1;33m\u001b[0m\u001b[0m\n",
      "\u001b[1;32m~\\AppData\\Roaming\\Python\\Python37\\site-packages\\matplotlib\\cbook\\deprecation.py\u001b[0m in \u001b[0;36mwrapper\u001b[1;34m(*args, **kwargs)\u001b[0m\n\u001b[0;32m    449\u001b[0m                 \u001b[1;34m\"parameter will become keyword-only %(removal)s.\"\u001b[0m\u001b[1;33m,\u001b[0m\u001b[1;33m\u001b[0m\u001b[0m\n\u001b[0;32m    450\u001b[0m                 name=name, obj_type=f\"parameter of {func.__name__}()\")\n\u001b[1;32m--> 451\u001b[1;33m         \u001b[1;32mreturn\u001b[0m \u001b[0mfunc\u001b[0m\u001b[1;33m(\u001b[0m\u001b[1;33m*\u001b[0m\u001b[0margs\u001b[0m\u001b[1;33m,\u001b[0m \u001b[1;33m**\u001b[0m\u001b[0mkwargs\u001b[0m\u001b[1;33m)\u001b[0m\u001b[1;33m\u001b[0m\u001b[0m\n\u001b[0m\u001b[0;32m    452\u001b[0m \u001b[1;33m\u001b[0m\u001b[0m\n\u001b[0;32m    453\u001b[0m     \u001b[1;32mreturn\u001b[0m \u001b[0mwrapper\u001b[0m\u001b[1;33m\u001b[0m\u001b[0m\n",
      "\u001b[1;32m~\\AppData\\Roaming\\Python\\Python37\\site-packages\\matplotlib\\axis.py\u001b[0m in \u001b[0;36m_set_ticklabels\u001b[1;34m(self, labels, fontdict, minor, **kwargs)\u001b[0m\n\u001b[0;32m   1791\u001b[0m         \u001b[1;32mif\u001b[0m \u001b[0mfontdict\u001b[0m \u001b[1;32mis\u001b[0m \u001b[1;32mnot\u001b[0m \u001b[1;32mNone\u001b[0m\u001b[1;33m:\u001b[0m\u001b[1;33m\u001b[0m\u001b[0m\n\u001b[0;32m   1792\u001b[0m             \u001b[0mkwargs\u001b[0m\u001b[1;33m.\u001b[0m\u001b[0mupdate\u001b[0m\u001b[1;33m(\u001b[0m\u001b[0mfontdict\u001b[0m\u001b[1;33m)\u001b[0m\u001b[1;33m\u001b[0m\u001b[0m\n\u001b[1;32m-> 1793\u001b[1;33m         \u001b[1;32mreturn\u001b[0m \u001b[0mself\u001b[0m\u001b[1;33m.\u001b[0m\u001b[0mset_ticklabels\u001b[0m\u001b[1;33m(\u001b[0m\u001b[0mlabels\u001b[0m\u001b[1;33m,\u001b[0m \u001b[0mminor\u001b[0m\u001b[1;33m=\u001b[0m\u001b[0mminor\u001b[0m\u001b[1;33m,\u001b[0m \u001b[1;33m**\u001b[0m\u001b[0mkwargs\u001b[0m\u001b[1;33m)\u001b[0m\u001b[1;33m\u001b[0m\u001b[0m\n\u001b[0m\u001b[0;32m   1794\u001b[0m \u001b[1;33m\u001b[0m\u001b[0m\n\u001b[0;32m   1795\u001b[0m     \u001b[1;33m@\u001b[0m\u001b[0mcbook\u001b[0m\u001b[1;33m.\u001b[0m\u001b[0m_make_keyword_only\u001b[0m\u001b[1;33m(\u001b[0m\u001b[1;34m\"3.2\"\u001b[0m\u001b[1;33m,\u001b[0m \u001b[1;34m\"minor\"\u001b[0m\u001b[1;33m)\u001b[0m\u001b[1;33m\u001b[0m\u001b[0m\n",
      "\u001b[1;32m~\\AppData\\Roaming\\Python\\Python37\\site-packages\\matplotlib\\axis.py\u001b[0m in \u001b[0;36mset_ticklabels\u001b[1;34m(self, ticklabels, minor, **kwargs)\u001b[0m\n\u001b[0;32m   1713\u001b[0m             \u001b[1;32mif\u001b[0m \u001b[0mlen\u001b[0m\u001b[1;33m(\u001b[0m\u001b[0mlocator\u001b[0m\u001b[1;33m.\u001b[0m\u001b[0mlocs\u001b[0m\u001b[1;33m)\u001b[0m \u001b[1;33m!=\u001b[0m \u001b[0mlen\u001b[0m\u001b[1;33m(\u001b[0m\u001b[0mticklabels\u001b[0m\u001b[1;33m)\u001b[0m \u001b[1;32mand\u001b[0m \u001b[0mlen\u001b[0m\u001b[1;33m(\u001b[0m\u001b[0mticklabels\u001b[0m\u001b[1;33m)\u001b[0m \u001b[1;33m!=\u001b[0m \u001b[1;36m0\u001b[0m\u001b[1;33m:\u001b[0m\u001b[1;33m\u001b[0m\u001b[0m\n\u001b[0;32m   1714\u001b[0m                 raise ValueError(\n\u001b[1;32m-> 1715\u001b[1;33m                     \u001b[1;34m\"The number of FixedLocator locations\"\u001b[0m\u001b[1;33m\u001b[0m\u001b[0m\n\u001b[0m\u001b[0;32m   1716\u001b[0m                     \u001b[1;34mf\" ({len(locator.locs)}), usually from a call to\"\u001b[0m\u001b[1;33m\u001b[0m\u001b[0m\n\u001b[0;32m   1717\u001b[0m                     \u001b[1;34m\" set_ticks, does not match\"\u001b[0m\u001b[1;33m\u001b[0m\u001b[0m\n",
      "\u001b[1;31mValueError\u001b[0m: The number of FixedLocator locations (8), usually from a call to set_ticks, does not match the number of ticklabels (7)."
     ]
    },
    {
     "data": {
      "image/png": "[encoded data removed]",
      "text/plain": [
       "<Figure size 1152x576 with 1 Axes>"
      ]
     },
     "metadata": {
      "needs_background": "light"
     },
     "output_type": "display_data"
    }
   ],
   "source": [
    "translate('está muito frio aqui',layer_name = 'decoder_layer4_att2')"
   ]
  },
  {
   "cell_type": "code",
   "execution_count": 60,
   "metadata": {},
   "outputs": [
    {
     "data": {
      "text/plain": [
       "'C:\\\\Users\\\\HP\\\\DeepLearningDemo'"
      ]
     },
     "execution_count": 60,
     "metadata": {},
     "output_type": "execute_result"
    }
   ],
   "source": []
  },
  {
   "cell_type": "code",
   "execution_count": null,
   "metadata": {},
   "outputs": [],
   "source": []
  },
  {
   "cell_type": "code",
   "execution_count": null,
   "metadata": {},
   "outputs": [],
   "source": []
  }
 ],
 "metadata": {
  "kernelspec": {
   "display_name": "Python 3",
   "language": "python",
   "name": "python3"
  },
  "language_info": {
   "codemirror_mode": {
    "name": "ipython",
    "version": 3
   },
   "file_extension": ".py",
   "mimetype": "text/x-python",
   "name": "python",
   "nbconvert_exporter": "python",
   "pygments_lexer": "ipython3",
   "version": "3.7.0"
  }
 },
 "nbformat": 4,
 "nbformat_minor": 2
}
